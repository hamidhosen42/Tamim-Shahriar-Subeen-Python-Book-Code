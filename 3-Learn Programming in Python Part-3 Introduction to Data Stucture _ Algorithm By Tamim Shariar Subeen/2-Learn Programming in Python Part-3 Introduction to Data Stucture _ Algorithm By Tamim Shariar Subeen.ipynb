{
 "cells": [
  {
   "cell_type": "markdown",
   "metadata": {},
   "source": [
    "# Data Stucture and Algorithom Chapter=1"
   ]
  },
  {
   "cell_type": "markdown",
   "metadata": {},
   "source": [
    "# Time & Space Complexity Chapter=2"
   ]
  },
  {
   "cell_type": "code",
   "execution_count": 1,
   "metadata": {},
   "outputs": [
    {
     "name": "stdout",
     "output_type": "stream",
     "text": [
      "30\n"
     ]
    }
   ],
   "source": [
    "#time complexity o(1)\n",
    "number_first=10\n",
    "number_second=20\n",
    "result=number_first+number_second\n",
    "print(result)"
   ]
  },
  {
   "cell_type": "code",
   "execution_count": 2,
   "metadata": {},
   "outputs": [
    {
     "name": "stdout",
     "output_type": "stream",
     "text": [
      "Enter your number:3\n",
      "6.0\n"
     ]
    }
   ],
   "source": [
    "#time complexity o(1)\n",
    "n=int(input('Enter your number:'))\n",
    "result=n*(n+1)/2\n",
    "print(result)"
   ]
  },
  {
   "cell_type": "code",
   "execution_count": 3,
   "metadata": {},
   "outputs": [
    {
     "name": "stdout",
     "output_type": "stream",
     "text": [
      "Enter your number:5\n",
      "15\n"
     ]
    }
   ],
   "source": [
    "#time complexity o(n)\n",
    "n=int(input(\"Enter your number:\"))\n",
    "result=0\n",
    "for i in range(1,n+1):\n",
    "    result=result+i\n",
    "print(result)"
   ]
  },
  {
   "cell_type": "code",
   "execution_count": 4,
   "metadata": {},
   "outputs": [
    {
     "name": "stdout",
     "output_type": "stream",
     "text": [
      "Enter your number:3\n",
      "3  is odd number.\n"
     ]
    }
   ],
   "source": [
    "#time complexity o(1)\n",
    "#spece complexity o(1)\n",
    "n=int(input(\"Enter your number:\"))\n",
    "\n",
    "if n%2==0:\n",
    "    print(n,\" is even number.\")\n",
    "else:\n",
    "    print(n,\" is odd number.\")"
   ]
  },
  {
   "cell_type": "code",
   "execution_count": 5,
   "metadata": {},
   "outputs": [
    {
     "name": "stdout",
     "output_type": "stream",
     "text": [
      "True\n",
      "False\n",
      "True\n"
     ]
    }
   ],
   "source": [
    "#time complexity o(n)\n",
    "#spece complexity o(n)\n",
    "n=100\n",
    "even=[False]*(n+1)\n",
    "for i in range(0,n+1,2):\n",
    "    even[i]=True\n",
    "    \n",
    "print(even[2])\n",
    "print(even[3])\n",
    "print(even[100])"
   ]
  },
  {
   "cell_type": "code",
   "execution_count": 6,
   "metadata": {},
   "outputs": [
    {
     "name": "stdout",
     "output_type": "stream",
     "text": [
      "Enter the number:3\n",
      "n= 3 count= 9\n"
     ]
    }
   ],
   "source": [
    "#time complexitymo(n^2)\n",
    "n=int(input('Enter the number:'))\n",
    "count=0\n",
    "for i in range(n):\n",
    "    for j in range(n):\n",
    "        count +=1\n",
    "\n",
    "print(\"n=\",n, \"count=\", count)"
   ]
  },
  {
   "cell_type": "code",
   "execution_count": 7,
   "metadata": {},
   "outputs": [
    {
     "name": "stdout",
     "output_type": "stream",
     "text": [
      "Enter the number:3\n",
      "n= 3 count= 3\n"
     ]
    }
   ],
   "source": [
    "#time complexitymo(n)\n",
    "n=int(input('Enter the number:'))\n",
    "count=0\n",
    "for i in range(n):\n",
    "    count +=1\n",
    "\n",
    "print(\"n=\",n, \"count=\", count)"
   ]
  },
  {
   "cell_type": "code",
   "execution_count": 8,
   "metadata": {},
   "outputs": [
    {
     "name": "stdout",
     "output_type": "stream",
     "text": [
      "Enter your number:3\n",
      "n= 3 count= 27\n"
     ]
    }
   ],
   "source": [
    "#time complexitymo(n^3)\n",
    "n=int(input('Enter your number:'))\n",
    "count=0\n",
    "for i in range(n):\n",
    "    for i in range(n):\n",
    "        for k in range(n):\n",
    "            count+=1\n",
    "            \n",
    "print(\"n=\", n, \"count=\", count)"
   ]
  },
  {
   "cell_type": "code",
   "execution_count": 9,
   "metadata": {},
   "outputs": [
    {
     "name": "stdout",
     "output_type": "stream",
     "text": [
      "Enter your number:3\n",
      "12\n"
     ]
    }
   ],
   "source": [
    "n=int(input('Enter your number:'))\n",
    "count=0\n",
    "for i in range(n):\n",
    "    count+=1\n",
    "\n",
    "for i in range(n):\n",
    "    for j in range(n):\n",
    "        count+=1\n",
    "        \n",
    "print(count)"
   ]
  },
  {
   "cell_type": "markdown",
   "metadata": {},
   "source": [
    "# Code test chapter=3"
   ]
  },
  {
   "cell_type": "code",
   "execution_count": 10,
   "metadata": {},
   "outputs": [
    {
     "name": "stdout",
     "output_type": "stream",
     "text": [
      "3.0\n"
     ]
    }
   ],
   "source": [
    "def average(L):\n",
    "    if not L:\n",
    "        return None\n",
    "    return sum(L)/len(L)\n",
    "\n",
    "if __name__==\"__main__\":\n",
    "    L=[1,2,3,4,5]\n",
    "    print(average(L))"
   ]
  },
  {
   "cell_type": "code",
   "execution_count": 12,
   "metadata": {},
   "outputs": [
    {
     "name": "stdout",
     "output_type": "stream",
     "text": [
      "test passed\n"
     ]
    }
   ],
   "source": [
    "def average(L):\n",
    "    if not L:\n",
    "        return None\n",
    "    return sum(L)/len(L)\n",
    "\n",
    "if __name__==\"__main__\":\n",
    "    L=[1,2,3,4,5]\n",
    "    expected_result=3.0\n",
    "    result=average(L)\n",
    "\n",
    "    if expected_result==result:\n",
    "        print(\"test passed\")\n",
    "    else:\n",
    "        print(\"test failed!\",\"received:\", result,\"expected:\",expected_result)"
   ]
  },
  {
   "cell_type": "code",
   "execution_count": 13,
   "metadata": {},
   "outputs": [
    {
     "name": "stdout",
     "output_type": "stream",
     "text": [
      "test failed! received: 3.0 expected: 4.0\n"
     ]
    }
   ],
   "source": [
    "def average(L):\n",
    "    if not L:\n",
    "        return None\n",
    "    return sum(L)/len(L)\n",
    "\n",
    "if __name__==\"__main__\":\n",
    "    L=[1,2,3,4,5]\n",
    "    expected_result=4.0\n",
    "    result=average(L)\n",
    "\n",
    "    if expected_result==result:\n",
    "        print(\"test passed\")\n",
    "    else:\n",
    "        print(\"test failed!\",\"received:\", result,\"expected:\",expected_result)"
   ]
  },
  {
   "cell_type": "markdown",
   "metadata": {},
   "source": [
    "# assert use"
   ]
  },
  {
   "cell_type": "code",
   "execution_count": 14,
   "metadata": {},
   "outputs": [
    {
     "ename": "AssertionError",
     "evalue": "",
     "output_type": "error",
     "traceback": [
      "\u001b[1;31m---------------------------------------------------------------------------\u001b[0m",
      "\u001b[1;31mAssertionError\u001b[0m                            Traceback (most recent call last)",
      "\u001b[1;32m<ipython-input-14-4d8d1d9ea52e>\u001b[0m in \u001b[0;36m<module>\u001b[1;34m\u001b[0m\n\u001b[0;32m      1\u001b[0m \u001b[1;32massert\u001b[0m \u001b[1;36m2\u001b[0m\u001b[1;33m==\u001b[0m\u001b[1;36m2\u001b[0m\u001b[1;33m\u001b[0m\u001b[1;33m\u001b[0m\u001b[0m\n\u001b[1;32m----> 2\u001b[1;33m \u001b[1;32massert\u001b[0m \u001b[1;36m2\u001b[0m\u001b[1;33m==\u001b[0m\u001b[1;36m3\u001b[0m\u001b[1;33m\u001b[0m\u001b[1;33m\u001b[0m\u001b[0m\n\u001b[0m\u001b[0;32m      3\u001b[0m \u001b[1;32massert\u001b[0m \u001b[1;36m2\u001b[0m\u001b[1;33m==\u001b[0m\u001b[1;36m2.0\u001b[0m\u001b[1;33m\u001b[0m\u001b[1;33m\u001b[0m\u001b[0m\n\u001b[0;32m      4\u001b[0m \u001b[0mli\u001b[0m\u001b[1;33m=\u001b[0m\u001b[1;33m[\u001b[0m\u001b[1;33m]\u001b[0m\u001b[1;33m\u001b[0m\u001b[1;33m\u001b[0m\u001b[0m\n\u001b[0;32m      5\u001b[0m \u001b[1;32massert\u001b[0m \u001b[0mli\u001b[0m\u001b[1;33m==\u001b[0m\u001b[1;33m[\u001b[0m\u001b[1;33m]\u001b[0m\u001b[1;33m\u001b[0m\u001b[1;33m\u001b[0m\u001b[0m\n",
      "\u001b[1;31mAssertionError\u001b[0m: "
     ]
    }
   ],
   "source": [
    "assert 2==2\n",
    "assert 2==3\n",
    "assert 2==2.0\n",
    "li=[]\n",
    "assert li==[]\n",
    "assert li==[1]\n",
    "s='123'\n",
    "assert s==\"123\"\n",
    "assert s==123"
   ]
  },
  {
   "cell_type": "code",
   "execution_count": 15,
   "metadata": {},
   "outputs": [
    {
     "ename": "AssertionError",
     "evalue": "how can 3 be less then 2?",
     "output_type": "error",
     "traceback": [
      "\u001b[1;31m---------------------------------------------------------------------------\u001b[0m",
      "\u001b[1;31mAssertionError\u001b[0m                            Traceback (most recent call last)",
      "\u001b[1;32m<ipython-input-15-4f1dccdec02d>\u001b[0m in \u001b[0;36m<module>\u001b[1;34m\u001b[0m\n\u001b[0;32m      1\u001b[0m \u001b[1;32massert\u001b[0m \u001b[1;36m3\u001b[0m\u001b[1;33m>\u001b[0m\u001b[1;36m2\u001b[0m\u001b[1;33m,\u001b[0m\u001b[1;34m\"of course 3 is greater than 2\"\u001b[0m\u001b[1;33m\u001b[0m\u001b[1;33m\u001b[0m\u001b[0m\n\u001b[1;32m----> 2\u001b[1;33m \u001b[1;32massert\u001b[0m \u001b[1;36m3\u001b[0m\u001b[1;33m<\u001b[0m\u001b[1;36m2\u001b[0m\u001b[1;33m,\u001b[0m\u001b[1;34m\"how can 3 be less then 2?\"\u001b[0m\u001b[1;33m\u001b[0m\u001b[1;33m\u001b[0m\u001b[0m\n\u001b[0m",
      "\u001b[1;31mAssertionError\u001b[0m: how can 3 be less then 2?"
     ]
    }
   ],
   "source": [
    "assert 3>2,\"of course 3 is greater than 2\"\n",
    "assert 3<2,\"how can 3 be less then 2?\""
   ]
  },
  {
   "cell_type": "code",
   "execution_count": 16,
   "metadata": {},
   "outputs": [],
   "source": [
    "def average(L):\n",
    "    if not L:\n",
    "        return None\n",
    "    return sum(L)/len(L)\n",
    "\n",
    "if __name__==\"__main__\":\n",
    "    L=[1,2,3,4,5]\n",
    "    expected_result=3.0\n",
    "    assert expected_result==average(L),\"average() product incorrect result\""
   ]
  },
  {
   "cell_type": "code",
   "execution_count": 17,
   "metadata": {},
   "outputs": [
    {
     "ename": "AssertionError",
     "evalue": "average() product incorrect result",
     "output_type": "error",
     "traceback": [
      "\u001b[1;31m---------------------------------------------------------------------------\u001b[0m",
      "\u001b[1;31mAssertionError\u001b[0m                            Traceback (most recent call last)",
      "\u001b[1;32m<ipython-input-17-8bed5e432946>\u001b[0m in \u001b[0;36m<module>\u001b[1;34m\u001b[0m\n\u001b[0;32m      7\u001b[0m     \u001b[0mL\u001b[0m\u001b[1;33m=\u001b[0m\u001b[1;33m[\u001b[0m\u001b[1;36m1\u001b[0m\u001b[1;33m,\u001b[0m\u001b[1;36m2\u001b[0m\u001b[1;33m,\u001b[0m\u001b[1;36m3\u001b[0m\u001b[1;33m,\u001b[0m\u001b[1;36m4\u001b[0m\u001b[1;33m,\u001b[0m\u001b[1;36m5\u001b[0m\u001b[1;33m]\u001b[0m\u001b[1;33m\u001b[0m\u001b[1;33m\u001b[0m\u001b[0m\n\u001b[0;32m      8\u001b[0m     \u001b[0mexpected_result\u001b[0m\u001b[1;33m=\u001b[0m\u001b[1;36m4\u001b[0m\u001b[1;33m\u001b[0m\u001b[1;33m\u001b[0m\u001b[0m\n\u001b[1;32m----> 9\u001b[1;33m     \u001b[1;32massert\u001b[0m \u001b[0mexpected_result\u001b[0m\u001b[1;33m==\u001b[0m\u001b[0maverage\u001b[0m\u001b[1;33m(\u001b[0m\u001b[0mL\u001b[0m\u001b[1;33m)\u001b[0m\u001b[1;33m,\u001b[0m\u001b[1;34m\"average() product incorrect result\"\u001b[0m\u001b[1;33m\u001b[0m\u001b[1;33m\u001b[0m\u001b[0m\n\u001b[0m",
      "\u001b[1;31mAssertionError\u001b[0m: average() product incorrect result"
     ]
    }
   ],
   "source": [
    "def average(L):\n",
    "    if not L:\n",
    "        return None\n",
    "    return sum(L)/len(L)\n",
    "\n",
    "if __name__==\"__main__\":\n",
    "    L=[1,2,3,4,5]\n",
    "    expected_result=4\n",
    "    assert expected_result==average(L),\"average() product incorrect result\""
   ]
  },
  {
   "cell_type": "markdown",
   "metadata": {},
   "source": [
    "# Unit test"
   ]
  },
  {
   "cell_type": "code",
   "execution_count": 18,
   "metadata": {},
   "outputs": [],
   "source": [
    "def average(L):\n",
    "    if not L:\n",
    "        return None\n",
    "    return sum(L)/len(L)\n",
    "\n",
    "def test_average():\n",
    "    assert 3.0==average([1,2,3,4,5])"
   ]
  },
  {
   "cell_type": "code",
   "execution_count": 19,
   "metadata": {},
   "outputs": [],
   "source": [
    "def average(L):\n",
    "    if not L:\n",
    "        return None\n",
    "    return sum(L)/len(L)\n",
    "\n",
    "def test_average():\n",
    "    test_cases=[\n",
    "        {\n",
    "            \"name\": \"simple case 1\",\n",
    "            \"input\": [1,2,3],\n",
    "            \"expected\":2.0\n",
    "        }\n",
    "        ,\n",
    "        {\n",
    "            \"name\": \"simple case 2\",\n",
    "            \"input\": [1, 2, 3,4],\n",
    "            \"expected\": 2.0\n",
    "        }\n",
    "        ,\n",
    "        {\n",
    "            \"name\": \"list with one item\",\n",
    "            \"input\": [100],\n",
    "            \"expected\": 100.0\n",
    "        }\n",
    "        ,\n",
    "        {\n",
    "            \"name\": \"empty list\",\n",
    "            \"input\": [],\n",
    "            \"expected\": None\n",
    "        }\n",
    "    ]\n",
    "    for test_case in test_cases:\n",
    "        assert test_case[\"expected\"]==average(test_case[\"input\"]),test_case[\"name\"]"
   ]
  },
  {
   "cell_type": "markdown",
   "metadata": {},
   "source": [
    "# Searching Algorithm chapter=4"
   ]
  },
  {
   "cell_type": "markdown",
   "metadata": {},
   "source": [
    "# linear search"
   ]
  },
  {
   "cell_type": "code",
   "execution_count": 20,
   "metadata": {},
   "outputs": [
    {
     "name": "stdout",
     "output_type": "stream",
     "text": [
      "linear_search in location: 3\n"
     ]
    }
   ],
   "source": [
    "def linear_search(L,x):\n",
    "    n=len(L)\n",
    "    i=0\n",
    "    while i<n:\n",
    "        if L[i]==x:\n",
    "            return i\n",
    "        i=i+1\n",
    "    i=-1\n",
    "    return i\n",
    "l=[1,2,3,4,5]\n",
    "x=4\n",
    "print(\"linear_search in location:\",linear_search(l,x))"
   ]
  },
  {
   "cell_type": "code",
   "execution_count": 21,
   "metadata": {},
   "outputs": [
    {
     "name": "stdout",
     "output_type": "stream",
     "text": [
      "linear_search in location: 3\n"
     ]
    }
   ],
   "source": [
    "#spece complexity o(1)\n",
    "#time complexity o(n)\n",
    "#best case complexity o(1)\n",
    "#worst case complexity means time complexity o(n)\n",
    "def linear_search(L,x):\n",
    "    n=len(L)\n",
    "    for i in range(n):\n",
    "        if L[i]==x:\n",
    "            return i\n",
    "    return -1\n",
    "l=[1,2,3,4,5]\n",
    "x=4\n",
    "print(\"linear_search in location:\",linear_search(l,x))"
   ]
  },
  {
   "cell_type": "markdown",
   "metadata": {},
   "source": [
    "# Binary Search¶"
   ]
  },
  {
   "cell_type": "code",
   "execution_count": 22,
   "metadata": {},
   "outputs": [
    {
     "name": "stdout",
     "output_type": "stream",
     "text": [
      "5\n",
      "The binary search is location: 4\n"
     ]
    }
   ],
   "source": [
    "#spece complexity o(1)\n",
    "#time complexity o(log n)\n",
    "def binary_search(L,x):\n",
    "    left=0\n",
    "    n=len(L)\n",
    "    right=n-1\n",
    "\n",
    "    while left<=right:\n",
    "        mid=(left+right)//2\n",
    "\n",
    "        if L[mid]==x:\n",
    "            return mid\n",
    "        if L[mid]<x:\n",
    "            left=mid+1\n",
    "        else:\n",
    "            right=mid-1\n",
    "    return -1\n",
    "\n",
    "L=[1,2,3,4,5,6,7,8,9]\n",
    "x=int(input())\n",
    "result=binary_search(L,x)\n",
    "print(\"The binary search is location:\",result)"
   ]
  },
  {
   "cell_type": "code",
   "execution_count": 23,
   "metadata": {},
   "outputs": [
    {
     "name": "stdout",
     "output_type": "stream",
     "text": [
      "1  found is correct position.\n",
      "2  found is correct position.\n",
      "3  found is correct position.\n",
      "4  found is correct position.\n",
      "5  found is correct position.\n",
      "6  found is correct position.\n",
      "7  found is correct position.\n",
      "8  found is correct position.\n",
      "9  is not list\n",
      "10  is not list\n",
      "program terminate\n"
     ]
    }
   ],
   "source": [
    "def binary_search(L,x):\n",
    "    left=0\n",
    "    n=len(L)\n",
    "    right=n-1\n",
    "\n",
    "    while left<=right:\n",
    "        mid=(left+right)//2\n",
    "\n",
    "        if L[mid]==x:\n",
    "            return mid\n",
    "        if L[mid]<x:\n",
    "            left=mid+1\n",
    "        else:\n",
    "            right=mid-1\n",
    "    return -1\n",
    "\n",
    "if __name__==\"__main__\":\n",
    "    L=[1,2,3,4,5,6,7,8]\n",
    "\n",
    "    for x in range(1,11):\n",
    "        position=binary_search(L,x)\n",
    "\n",
    "        if position==-1:\n",
    "            if x in L:\n",
    "                print(x,\" is in L, but function returned -1\")\n",
    "            else:\n",
    "                print(x,\" is not list\")\n",
    "        else:\n",
    "            if L[position]==x:\n",
    "                print(x,\" found is correct position.\")\n",
    "            else:\n",
    "                print(\"binary search returned \",position, \"for\", x, \"which is incorrect\")\n",
    "    print(\"program terminate\")"
   ]
  }
 ],
 "metadata": {
  "kernelspec": {
   "display_name": "Python 3",
   "language": "python",
   "name": "python3"
  },
  "language_info": {
   "codemirror_mode": {
    "name": "ipython",
    "version": 3
   },
   "file_extension": ".py",
   "mimetype": "text/x-python",
   "name": "python",
   "nbconvert_exporter": "python",
   "pygments_lexer": "ipython3",
   "version": "3.8.5"
  }
 },
 "nbformat": 4,
 "nbformat_minor": 4
}
