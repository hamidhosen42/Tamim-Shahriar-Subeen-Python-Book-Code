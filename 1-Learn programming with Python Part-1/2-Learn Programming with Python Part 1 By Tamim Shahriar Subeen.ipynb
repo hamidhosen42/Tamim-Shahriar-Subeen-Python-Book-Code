{
 "cells": [
  {
   "cell_type": "markdown",
   "metadata": {},
   "source": [
    "# Program and python chapter=1¶"
   ]
  },
  {
   "cell_type": "markdown",
   "metadata": {},
   "source": [
    "# Start from python first program chepter=2"
   ]
  },
  {
   "cell_type": "code",
   "execution_count": 1,
   "metadata": {},
   "outputs": [
    {
     "name": "stdout",
     "output_type": "stream",
     "text": [
      "Hello word\n"
     ]
    }
   ],
   "source": [
    "print(\"Hello word\")"
   ]
  },
  {
   "cell_type": "code",
   "execution_count": 2,
   "metadata": {},
   "outputs": [
    {
     "ename": "SyntaxError",
     "evalue": "EOL while scanning string literal (<ipython-input-2-684185fcde72>, line 1)",
     "output_type": "error",
     "traceback": [
      "\u001b[1;36m  File \u001b[1;32m\"<ipython-input-2-684185fcde72>\"\u001b[1;36m, line \u001b[1;32m1\u001b[0m\n\u001b[1;33m    print(\"Hello word')\u001b[0m\n\u001b[1;37m                       ^\u001b[0m\n\u001b[1;31mSyntaxError\u001b[0m\u001b[1;31m:\u001b[0m EOL while scanning string literal\n"
     ]
    }
   ],
   "source": [
    "print(\"Hello word')"
   ]
  },
  {
   "cell_type": "markdown",
   "metadata": {},
   "source": [
    "# Variable,Data type or Operation chapter=3"
   ]
  },
  {
   "cell_type": "code",
   "execution_count": 3,
   "metadata": {},
   "outputs": [
    {
     "name": "stdout",
     "output_type": "stream",
     "text": [
      "Hello Word\n"
     ]
    }
   ],
   "source": [
    "text=\"Hello Word\"\n",
    "print(text)"
   ]
  },
  {
   "cell_type": "code",
   "execution_count": 4,
   "metadata": {},
   "outputs": [
    {
     "name": "stdout",
     "output_type": "stream",
     "text": [
      "15\n",
      "5\n",
      "50\n",
      "2.0\n"
     ]
    }
   ],
   "source": [
    "# Two number sum chapter=3\n",
    "number1=10\n",
    "number2=5\n",
    "result=number1+number2\n",
    "print(result)\n",
    "result=number1-number2\n",
    "print(result)\n",
    "result=number1*number2\n",
    "print(result)\n",
    "result=number1/number2\n",
    "print(result)"
   ]
  },
  {
   "cell_type": "code",
   "execution_count": 5,
   "metadata": {},
   "outputs": [
    {
     "name": "stdout",
     "output_type": "stream",
     "text": [
      "10\n",
      "18\n",
      "hello\n"
     ]
    }
   ],
   "source": [
    "# chapter=3\n",
    "number1=10\n",
    "print(number1)\n",
    "number1=15\n",
    "number1=18\n",
    "print(number1)\n",
    "number1=\"hello\"\n",
    "print(number1)"
   ]
  },
  {
   "cell_type": "code",
   "execution_count": 6,
   "metadata": {},
   "outputs": [
    {
     "ename": "TypeError",
     "evalue": "can only concatenate str (not \"int\") to str",
     "output_type": "error",
     "traceback": [
      "\u001b[1;31m---------------------------------------------------------------------------\u001b[0m",
      "\u001b[1;31mTypeError\u001b[0m                                 Traceback (most recent call last)",
      "\u001b[1;32m<ipython-input-6-c122c5e1b5f8>\u001b[0m in \u001b[0;36m<module>\u001b[1;34m\u001b[0m\n\u001b[0;32m      2\u001b[0m \u001b[0mnumber1\u001b[0m\u001b[1;33m=\u001b[0m\u001b[1;34m\"hello\"\u001b[0m\u001b[1;33m\u001b[0m\u001b[1;33m\u001b[0m\u001b[0m\n\u001b[0;32m      3\u001b[0m \u001b[0mnumber2\u001b[0m\u001b[1;33m=\u001b[0m\u001b[1;36m2\u001b[0m\u001b[1;33m\u001b[0m\u001b[1;33m\u001b[0m\u001b[0m\n\u001b[1;32m----> 4\u001b[1;33m \u001b[0mresult\u001b[0m\u001b[1;33m=\u001b[0m\u001b[0mnumber1\u001b[0m\u001b[1;33m+\u001b[0m\u001b[0mnumber2\u001b[0m\u001b[1;33m\u001b[0m\u001b[1;33m\u001b[0m\u001b[0m\n\u001b[0m",
      "\u001b[1;31mTypeError\u001b[0m: can only concatenate str (not \"int\") to str"
     ]
    }
   ],
   "source": [
    "# chapter=3\n",
    "number1=\"hello\"\n",
    "number2=2\n",
    "result=number1+number2"
   ]
  },
  {
   "cell_type": "code",
   "execution_count": 7,
   "metadata": {},
   "outputs": [
    {
     "data": {
      "text/plain": [
       "float"
      ]
     },
     "execution_count": 7,
     "metadata": {},
     "output_type": "execute_result"
    }
   ],
   "source": [
    "v=10.0\n",
    "type(v)"
   ]
  },
  {
   "cell_type": "code",
   "execution_count": 8,
   "metadata": {},
   "outputs": [
    {
     "data": {
      "text/plain": [
       "int"
      ]
     },
     "execution_count": 8,
     "metadata": {},
     "output_type": "execute_result"
    }
   ],
   "source": [
    "v=10\n",
    "type(v)"
   ]
  },
  {
   "cell_type": "code",
   "execution_count": 9,
   "metadata": {},
   "outputs": [
    {
     "data": {
      "text/plain": [
       "str"
      ]
     },
     "execution_count": 9,
     "metadata": {},
     "output_type": "execute_result"
    }
   ],
   "source": [
    "v2=\"10\"\n",
    "type(v2)"
   ]
  },
  {
   "cell_type": "code",
   "execution_count": 10,
   "metadata": {},
   "outputs": [
    {
     "name": "stdout",
     "output_type": "stream",
     "text": [
      "100\n",
      "aadfas-223<>?232\n",
      "abc 123\n",
      "\n"
     ]
    }
   ],
   "source": [
    "## chapter=3\n",
    "s=\"100\"\n",
    "print(s)\n",
    "s=\"aadfas-223<>?232\"\n",
    "print(s)\n",
    "s='abc 123'\n",
    "print(s)\n",
    "s=''\n",
    "print(s)"
   ]
  },
  {
   "cell_type": "code",
   "execution_count": 11,
   "metadata": {},
   "outputs": [
    {
     "name": "stdout",
     "output_type": "stream",
     "text": [
      "3.1\n"
     ]
    },
    {
     "ename": "TypeError",
     "evalue": "unsupported operand type(s) for +: 'int' and 'str'",
     "output_type": "error",
     "traceback": [
      "\u001b[1;31m---------------------------------------------------------------------------\u001b[0m",
      "\u001b[1;31mTypeError\u001b[0m                                 Traceback (most recent call last)",
      "\u001b[1;32m<ipython-input-11-b123185b1e26>\u001b[0m in \u001b[0;36m<module>\u001b[1;34m\u001b[0m\n\u001b[0;32m      6\u001b[0m \u001b[0ma\u001b[0m\u001b[1;33m=\u001b[0m\u001b[1;36m1\u001b[0m\u001b[1;31m#int\u001b[0m\u001b[1;33m\u001b[0m\u001b[1;33m\u001b[0m\u001b[0m\n\u001b[0;32m      7\u001b[0m \u001b[0mb\u001b[0m\u001b[1;33m=\u001b[0m\u001b[1;34m\"2\"\u001b[0m\u001b[1;31m#string\u001b[0m\u001b[1;33m\u001b[0m\u001b[1;33m\u001b[0m\u001b[0m\n\u001b[1;32m----> 8\u001b[1;33m \u001b[0mc\u001b[0m\u001b[1;33m=\u001b[0m\u001b[0ma\u001b[0m\u001b[1;33m+\u001b[0m\u001b[0mb\u001b[0m\u001b[1;33m\u001b[0m\u001b[1;33m\u001b[0m\u001b[0m\n\u001b[0m\u001b[0;32m      9\u001b[0m \u001b[0mprint\u001b[0m\u001b[1;33m(\u001b[0m\u001b[0mc\u001b[0m\u001b[1;33m)\u001b[0m\u001b[1;31m#then Error\u001b[0m\u001b[1;33m\u001b[0m\u001b[1;33m\u001b[0m\u001b[0m\n",
      "\u001b[1;31mTypeError\u001b[0m: unsupported operand type(s) for +: 'int' and 'str'"
     ]
    }
   ],
   "source": [
    "#chapter=3\n",
    "a=1#int\n",
    "b=2.1#float\n",
    "c=a+b\n",
    "print(c)#float\n",
    "a=1#int\n",
    "b=\"2\"#string\n",
    "c=a+b\n",
    "print(c)#then Error"
   ]
  },
  {
   "cell_type": "code",
   "execution_count": 12,
   "metadata": {},
   "outputs": [
    {
     "data": {
      "text/plain": [
       "2.5"
      ]
     },
     "execution_count": 12,
     "metadata": {},
     "output_type": "execute_result"
    }
   ],
   "source": [
    "5/2"
   ]
  },
  {
   "cell_type": "code",
   "execution_count": 13,
   "metadata": {},
   "outputs": [
    {
     "data": {
      "text/plain": [
       "3"
      ]
     },
     "execution_count": 13,
     "metadata": {},
     "output_type": "execute_result"
    }
   ],
   "source": [
    "5-2"
   ]
  },
  {
   "cell_type": "code",
   "execution_count": 14,
   "metadata": {},
   "outputs": [
    {
     "data": {
      "text/plain": [
       "10"
      ]
     },
     "execution_count": 14,
     "metadata": {},
     "output_type": "execute_result"
    }
   ],
   "source": [
    "5*2"
   ]
  },
  {
   "cell_type": "code",
   "execution_count": 15,
   "metadata": {},
   "outputs": [
    {
     "data": {
      "text/plain": [
       "2"
      ]
     },
     "execution_count": 15,
     "metadata": {},
     "output_type": "execute_result"
    }
   ],
   "source": [
    "5//2"
   ]
  },
  {
   "cell_type": "code",
   "execution_count": 16,
   "metadata": {},
   "outputs": [
    {
     "data": {
      "text/plain": [
       "1"
      ]
     },
     "execution_count": 16,
     "metadata": {},
     "output_type": "execute_result"
    }
   ],
   "source": [
    "5%2"
   ]
  },
  {
   "cell_type": "code",
   "execution_count": 17,
   "metadata": {},
   "outputs": [
    {
     "data": {
      "text/plain": [
       "25"
      ]
     },
     "execution_count": 17,
     "metadata": {},
     "output_type": "execute_result"
    }
   ],
   "source": [
    "5**2"
   ]
  },
  {
   "cell_type": "code",
   "execution_count": 18,
   "metadata": {},
   "outputs": [
    {
     "name": "stdout",
     "output_type": "stream",
     "text": [
      "1 1.2 hello\n",
      "1 1.2 hello World\n"
     ]
    }
   ],
   "source": [
    "a=1\n",
    "b=1.2\n",
    "c=\"hello\"\n",
    "print(a,b,c)\n",
    "print(a,b,c,\"World\")"
   ]
  },
  {
   "cell_type": "code",
   "execution_count": 19,
   "metadata": {},
   "outputs": [
    {
     "name": "stdout",
     "output_type": "stream",
     "text": [
      "What is your name?Hamid Hosen\n",
      "Welcome to python, Hamid Hosen !\n"
     ]
    }
   ],
   "source": [
    "name=input(\"What is your name?\")\n",
    "print(\"Welcome to python,\",name,\"!\")"
   ]
  },
  {
   "cell_type": "code",
   "execution_count": 20,
   "metadata": {},
   "outputs": [
    {
     "name": "stdout",
     "output_type": "stream",
     "text": [
      "Please type an integer and press enter:3\n",
      "Please type another integer and press enter :3\n",
      "number1+number2= 33\n"
     ]
    }
   ],
   "source": [
    "number1=input(\"Please type an integer and press enter:\")\n",
    "number2=input(\"Please type another integer and press enter :\")\n",
    "print(\"number1+number2=\",number1+number2)"
   ]
  },
  {
   "cell_type": "code",
   "execution_count": 21,
   "metadata": {},
   "outputs": [
    {
     "name": "stdout",
     "output_type": "stream",
     "text": [
      "Please type an integer and press enter:5\n",
      "Please type another integer and press enter :2\n",
      "number1+number2= 7\n",
      "number1+number2= 3\n",
      "number1+number2= 10\n",
      "number1+number2= 2.5\n",
      "number1+number2= 1\n",
      "number1+number2= 2\n",
      "number1+number2= 25\n"
     ]
    }
   ],
   "source": [
    "number1=input(\"Please type an integer and press enter:\")\n",
    "number2=input(\"Please type another integer and press enter :\")\n",
    "number1=int(number1)\n",
    "number2=int(number2)\n",
    "print(\"number1+number2=\",number1+number2)\n",
    "print(\"number1+number2=\",number1-number2)\n",
    "print(\"number1+number2=\",number1*number2)\n",
    "print(\"number1+number2=\",number1/number2)\n",
    "print(\"number1+number2=\",number1%number2)\n",
    "print(\"number1+number2=\",number1//number2)\n",
    "print(\"number1+number2=\",number1**number2)"
   ]
  },
  {
   "cell_type": "markdown",
   "metadata": {},
   "source": [
    "# Conditional logic chapter=4"
   ]
  },
  {
   "cell_type": "code",
   "execution_count": 22,
   "metadata": {},
   "outputs": [
    {
     "data": {
      "text/plain": [
       "True"
      ]
     },
     "execution_count": 22,
     "metadata": {},
     "output_type": "execute_result"
    }
   ],
   "source": [
    "2==3\n",
    "3==3\n",
    "2>3\n",
    "2<3\n",
    "2!=3\n",
    "3!=3\n",
    "2>=3\n",
    "2<=3"
   ]
  },
  {
   "cell_type": "code",
   "execution_count": 23,
   "metadata": {},
   "outputs": [
    {
     "data": {
      "text/plain": [
       "False"
      ]
     },
     "execution_count": 23,
     "metadata": {},
     "output_type": "execute_result"
    }
   ],
   "source": [
    "\"Bangladesh\"==\"Bangladesh\"\n",
    "\"Bangladesh\"==\"bangladesh\""
   ]
  },
  {
   "cell_type": "code",
   "execution_count": 24,
   "metadata": {},
   "outputs": [
    {
     "data": {
      "text/plain": [
       "False"
      ]
     },
     "execution_count": 24,
     "metadata": {},
     "output_type": "execute_result"
    }
   ],
   "source": [
    "my_money=30\n",
    "rickshaw_fare=40\n",
    "my_money>=rickshaw_fare"
   ]
  },
  {
   "cell_type": "code",
   "execution_count": 25,
   "metadata": {},
   "outputs": [
    {
     "data": {
      "text/plain": [
       "True"
      ]
     },
     "execution_count": 25,
     "metadata": {},
     "output_type": "execute_result"
    }
   ],
   "source": [
    "my_money=30\n",
    "rickshaw_fare=30\n",
    "my_money>=rickshaw_fare"
   ]
  },
  {
   "cell_type": "code",
   "execution_count": 26,
   "metadata": {},
   "outputs": [
    {
     "data": {
      "text/plain": [
       "True"
      ]
     },
     "execution_count": 26,
     "metadata": {},
     "output_type": "execute_result"
    }
   ],
   "source": [
    "my_money=50\n",
    "rickshaw_fare=40\n",
    "my_money>=rickshaw_fare"
   ]
  },
  {
   "cell_type": "code",
   "execution_count": 27,
   "metadata": {},
   "outputs": [
    {
     "data": {
      "text/plain": [
       "False"
      ]
     },
     "execution_count": 27,
     "metadata": {},
     "output_type": "execute_result"
    }
   ],
   "source": [
    "today=\"Wednesday\"\n",
    "today==\"Tuesday\""
   ]
  },
  {
   "cell_type": "code",
   "execution_count": 28,
   "metadata": {},
   "outputs": [
    {
     "data": {
      "text/plain": [
       "True"
      ]
     },
     "execution_count": 28,
     "metadata": {},
     "output_type": "execute_result"
    }
   ],
   "source": [
    "not(today==\"Tuesday\")"
   ]
  },
  {
   "cell_type": "code",
   "execution_count": 29,
   "metadata": {},
   "outputs": [
    {
     "data": {
      "text/plain": [
       "False"
      ]
     },
     "execution_count": 29,
     "metadata": {},
     "output_type": "execute_result"
    }
   ],
   "source": [
    "not True"
   ]
  },
  {
   "cell_type": "code",
   "execution_count": 30,
   "metadata": {},
   "outputs": [
    {
     "data": {
      "text/plain": [
       "True"
      ]
     },
     "execution_count": 30,
     "metadata": {},
     "output_type": "execute_result"
    }
   ],
   "source": [
    "not False"
   ]
  },
  {
   "cell_type": "code",
   "execution_count": 31,
   "metadata": {},
   "outputs": [
    {
     "data": {
      "text/plain": [
       "True"
      ]
     },
     "execution_count": 31,
     "metadata": {},
     "output_type": "execute_result"
    }
   ],
   "source": [
    "number=20\n",
    "number>10"
   ]
  },
  {
   "cell_type": "code",
   "execution_count": 32,
   "metadata": {},
   "outputs": [
    {
     "data": {
      "text/plain": [
       "True"
      ]
     },
     "execution_count": 32,
     "metadata": {},
     "output_type": "execute_result"
    }
   ],
   "source": [
    "number=20\n",
    "number<100"
   ]
  },
  {
   "cell_type": "code",
   "execution_count": 33,
   "metadata": {},
   "outputs": [
    {
     "data": {
      "text/plain": [
       "True"
      ]
     },
     "execution_count": 33,
     "metadata": {},
     "output_type": "execute_result"
    }
   ],
   "source": [
    "number=20\n",
    "number>10 and number<100"
   ]
  },
  {
   "cell_type": "code",
   "execution_count": 34,
   "metadata": {},
   "outputs": [
    {
     "data": {
      "text/plain": [
       "True"
      ]
     },
     "execution_count": 34,
     "metadata": {},
     "output_type": "execute_result"
    }
   ],
   "source": [
    "number=200\n",
    "number>10"
   ]
  },
  {
   "cell_type": "code",
   "execution_count": 35,
   "metadata": {},
   "outputs": [
    {
     "data": {
      "text/plain": [
       "False"
      ]
     },
     "execution_count": 35,
     "metadata": {},
     "output_type": "execute_result"
    }
   ],
   "source": [
    "number=200\n",
    "number<100"
   ]
  },
  {
   "cell_type": "code",
   "execution_count": 36,
   "metadata": {},
   "outputs": [
    {
     "data": {
      "text/plain": [
       "False"
      ]
     },
     "execution_count": 36,
     "metadata": {},
     "output_type": "execute_result"
    }
   ],
   "source": [
    "number=200\n",
    "number>10 and number<100"
   ]
  },
  {
   "cell_type": "code",
   "execution_count": 37,
   "metadata": {},
   "outputs": [
    {
     "data": {
      "text/plain": [
       "True"
      ]
     },
     "execution_count": 37,
     "metadata": {},
     "output_type": "execute_result"
    }
   ],
   "source": [
    "number=200\n",
    "number>10 or number<100"
   ]
  },
  {
   "cell_type": "code",
   "execution_count": 38,
   "metadata": {},
   "outputs": [
    {
     "data": {
      "text/plain": [
       "True"
      ]
     },
     "execution_count": 38,
     "metadata": {},
     "output_type": "execute_result"
    }
   ],
   "source": [
    "number=200\n",
    "not(number<100)"
   ]
  },
  {
   "cell_type": "code",
   "execution_count": 39,
   "metadata": {},
   "outputs": [
    {
     "name": "stdout",
     "output_type": "stream",
     "text": [
      "[1, 2, 3, 4, 5, 6, 7, 8, 9, 10]\n"
     ]
    }
   ],
   "source": [
    "#list\n",
    "number=[1,2,3,4,5,6,7,8,9,10]\n",
    "print(number)"
   ]
  },
  {
   "cell_type": "code",
   "execution_count": 40,
   "metadata": {},
   "outputs": [
    {
     "name": "stdout",
     "output_type": "stream",
     "text": [
      "[1, 2, 3, 4, 5, 6, 7, 8, 9, 10]\n",
      "1\n",
      "2\n",
      "10\n"
     ]
    },
    {
     "ename": "IndexError",
     "evalue": "list index out of range",
     "output_type": "error",
     "traceback": [
      "\u001b[1;31m---------------------------------------------------------------------------\u001b[0m",
      "\u001b[1;31mIndexError\u001b[0m                                Traceback (most recent call last)",
      "\u001b[1;32m<ipython-input-40-3d9c28e8b45a>\u001b[0m in \u001b[0;36m<module>\u001b[1;34m\u001b[0m\n\u001b[0;32m      4\u001b[0m \u001b[0mprint\u001b[0m\u001b[1;33m(\u001b[0m\u001b[0mnumber\u001b[0m\u001b[1;33m[\u001b[0m\u001b[1;36m1\u001b[0m\u001b[1;33m]\u001b[0m\u001b[1;33m)\u001b[0m\u001b[1;33m\u001b[0m\u001b[1;33m\u001b[0m\u001b[0m\n\u001b[0;32m      5\u001b[0m \u001b[0mprint\u001b[0m\u001b[1;33m(\u001b[0m\u001b[0mnumber\u001b[0m\u001b[1;33m[\u001b[0m\u001b[1;36m9\u001b[0m\u001b[1;33m]\u001b[0m\u001b[1;33m)\u001b[0m\u001b[1;33m\u001b[0m\u001b[1;33m\u001b[0m\u001b[0m\n\u001b[1;32m----> 6\u001b[1;33m \u001b[0mprint\u001b[0m\u001b[1;33m(\u001b[0m\u001b[0mnumber\u001b[0m\u001b[1;33m[\u001b[0m\u001b[1;36m10\u001b[0m\u001b[1;33m]\u001b[0m\u001b[1;33m)\u001b[0m\u001b[1;33m\u001b[0m\u001b[1;33m\u001b[0m\u001b[0m\n\u001b[0m",
      "\u001b[1;31mIndexError\u001b[0m: list index out of range"
     ]
    }
   ],
   "source": [
    "number=[1,2,3,4,5,6,7,8,9,10]\n",
    "print(number)\n",
    "print(number[0])\n",
    "print(number[1])\n",
    "print(number[9])\n",
    "print(number[10])"
   ]
  },
  {
   "cell_type": "code",
   "execution_count": 41,
   "metadata": {},
   "outputs": [
    {
     "name": "stdout",
     "output_type": "stream",
     "text": [
      "['Bangladesh', 'Afghanistan', 'Bhuten', 'Nepal', 'India', 'Pakistan', 'Sri Lanka']\n",
      "Bangladesh\n",
      "Number of countries in SAARC: 7\n"
     ]
    }
   ],
   "source": [
    "saarc=[\"Bangladesh\",\"Afghanistan\",\"Bhuten\",\"Nepal\",\"India\",\"Pakistan\",\"Sri Lanka\"]\n",
    "print(saarc)\n",
    "print(saarc[0])\n",
    "print(\"Number of countries in SAARC:\",len(saarc))"
   ]
  },
  {
   "cell_type": "code",
   "execution_count": 42,
   "metadata": {},
   "outputs": [
    {
     "data": {
      "text/plain": [
       "True"
      ]
     },
     "execution_count": 42,
     "metadata": {},
     "output_type": "execute_result"
    }
   ],
   "source": [
    "\"Bangladesh\" in saarc"
   ]
  },
  {
   "cell_type": "code",
   "execution_count": 43,
   "metadata": {},
   "outputs": [
    {
     "data": {
      "text/plain": [
       "False"
      ]
     },
     "execution_count": 43,
     "metadata": {},
     "output_type": "execute_result"
    }
   ],
   "source": [
    "\"China\" in saarc"
   ]
  },
  {
   "cell_type": "code",
   "execution_count": 44,
   "metadata": {},
   "outputs": [
    {
     "data": {
      "text/plain": [
       "True"
      ]
     },
     "execution_count": 44,
     "metadata": {},
     "output_type": "execute_result"
    }
   ],
   "source": [
    "\"China\" not  in saarc"
   ]
  },
  {
   "cell_type": "code",
   "execution_count": 45,
   "metadata": {},
   "outputs": [
    {
     "data": {
      "text/plain": [
       "False"
      ]
     },
     "execution_count": 45,
     "metadata": {},
     "output_type": "execute_result"
    }
   ],
   "source": [
    "\"India\" not in saarc"
   ]
  },
  {
   "cell_type": "code",
   "execution_count": 46,
   "metadata": {},
   "outputs": [
    {
     "name": "stdout",
     "output_type": "stream",
     "text": [
      "Enter the name of the country:Bangladesh\n",
      "Bangladesh  is a number of SAARC\n",
      "Program to tarminat.\n"
     ]
    }
   ],
   "source": [
    "#if statment\n",
    "saarc=[\"Bangladesh\",\"Afghanistan\",\"Bhuten\",\"Nepal\",\"India\",\"Pakistan\",\"Sri Lanka\"]\n",
    "country=input(\"Enter the name of the country:\")\n",
    "if country in saarc:\n",
    "    print(country,\" is a number of SAARC\")\n",
    "print(\"Program to tarminat.\")"
   ]
  },
  {
   "cell_type": "code",
   "execution_count": 47,
   "metadata": {},
   "outputs": [
    {
     "name": "stdout",
     "output_type": "stream",
     "text": [
      "Enter the name of the country:japan\n",
      "japan is not a member of SAARc\n"
     ]
    }
   ],
   "source": [
    "#if-else\n",
    "saarc=[\"Bangladesh\",\"Afghanistan\",\"Bhuten\",\"Nepal\",\"India\",\"Pakistan\",\"Sri Lanka\"]\n",
    "country=input(\"Enter the name of the country:\")\n",
    "if country in saarc:\n",
    "    print(country,\" is a member of SAARC.\")\n",
    "else:\n",
    "    print(country,\"is not a member of SAARc\")"
   ]
  },
  {
   "cell_type": "code",
   "execution_count": 48,
   "metadata": {},
   "outputs": [
    {
     "name": "stdout",
     "output_type": "stream",
     "text": [
      "Please enter your marks:45\n",
      "Your grad is  F\n"
     ]
    }
   ],
   "source": [
    "#else if=elif\n",
    "marks=input(\"Please enter your marks:\")#string\n",
    "marks=int(marks)#string conver to integer\n",
    "if marks>=80:\n",
    "    grad=\"A+\"\n",
    "elif marks>=70:\n",
    "    grad=\"A\"\n",
    "elif marks>=60:\n",
    "    grad=\"A-\"\n",
    "elif marks>=50:\n",
    "    grad=\"B\"\n",
    "else:\n",
    "    grad=\"F\"\n",
    "print(\"Your grad is \",grad)"
   ]
  },
  {
   "cell_type": "code",
   "execution_count": 49,
   "metadata": {},
   "outputs": [
    {
     "name": "stdout",
     "output_type": "stream",
     "text": [
      "Enter your number:4\n",
      "The number is positive.\n"
     ]
    }
   ],
   "source": [
    "#positive or negative\n",
    "num=int(input(\"Enter your number:\"))\n",
    "if num>=0:\n",
    "    print(\"The number is positive.\")\n",
    "else:\n",
    "    print(\"The number is negative.\")"
   ]
  },
  {
   "cell_type": "code",
   "execution_count": 50,
   "metadata": {},
   "outputs": [
    {
     "name": "stdout",
     "output_type": "stream",
     "text": [
      "Enter your number:3\n",
      "the number is odd.\n"
     ]
    }
   ],
   "source": [
    "#even or odd number\n",
    "num=int(input(\"Enter your number:\"))\n",
    "if num%2==0:\n",
    "    print(\"The number is even.\")\n",
    "else:\n",
    "    print(\"the number is odd.\")"
   ]
  },
  {
   "cell_type": "code",
   "execution_count": 51,
   "metadata": {},
   "outputs": [
    {
     "name": "stdout",
     "output_type": "stream",
     "text": [
      "Maximum: 30\n"
     ]
    }
   ],
   "source": [
    "#large number\n",
    "num1=20\n",
    "num2=30\n",
    "num3=25\n",
    "if num1>num2:\n",
    "    max_n=num1\n",
    "else:\n",
    "    max_n=num2\n",
    "if num3>max_n:\n",
    "    max_n=num3\n",
    "print(\"Maximum:\",max_n)"
   ]
  },
  {
   "cell_type": "code",
   "execution_count": 52,
   "metadata": {},
   "outputs": [
    {
     "name": "stdout",
     "output_type": "stream",
     "text": [
      "Enter your number:2015\n",
      "No\n"
     ]
    }
   ],
   "source": [
    "#leap year\n",
    "year=int(input(\"Enter your number:\"))\n",
    "if year%4==0:\n",
    "    print(\"Yes\")\n",
    "elif year%100!=0 and year%400==0:\n",
    "    print(\"Yes\")\n",
    "else:\n",
    "    print(\"No\")"
   ]
  },
  {
   "cell_type": "markdown",
   "metadata": {},
   "source": [
    "# Turtle identifire chapter=5"
   ]
  },
  {
   "cell_type": "code",
   "execution_count": 67,
   "metadata": {},
   "outputs": [],
   "source": [
    "from turtle import*\n",
    "done()"
   ]
  },
  {
   "cell_type": "code",
   "execution_count": 69,
   "metadata": {},
   "outputs": [
    {
     "ename": "AttributeError",
     "evalue": "module 'turtle' has no attribute 'forwad'",
     "output_type": "error",
     "traceback": [
      "\u001b[1;31m---------------------------------------------------------------------------\u001b[0m",
      "\u001b[1;31mAttributeError\u001b[0m                            Traceback (most recent call last)",
      "\u001b[1;32m<ipython-input-69-f50116da7d6c>\u001b[0m in \u001b[0;36m<module>\u001b[1;34m\u001b[0m\n\u001b[0;32m      1\u001b[0m \u001b[1;32mimport\u001b[0m \u001b[0mturtle\u001b[0m\u001b[1;33m\u001b[0m\u001b[1;33m\u001b[0m\u001b[0m\n\u001b[0;32m      2\u001b[0m \u001b[1;33m\u001b[0m\u001b[0m\n\u001b[1;32m----> 3\u001b[1;33m \u001b[0mturtle\u001b[0m\u001b[1;33m.\u001b[0m\u001b[0mforwad\u001b[0m\u001b[1;33m(\u001b[0m\u001b[1;36m100\u001b[0m\u001b[1;33m)\u001b[0m\u001b[1;33m\u001b[0m\u001b[1;33m\u001b[0m\u001b[0m\n\u001b[0m\u001b[0;32m      4\u001b[0m \u001b[1;33m\u001b[0m\u001b[0m\n\u001b[0;32m      5\u001b[0m \u001b[0mturtle\u001b[0m\u001b[1;33m.\u001b[0m\u001b[0mexitonclick\u001b[0m\u001b[1;33m(\u001b[0m\u001b[1;33m)\u001b[0m\u001b[1;33m\u001b[0m\u001b[1;33m\u001b[0m\u001b[0m\n",
      "\u001b[1;31mAttributeError\u001b[0m: module 'turtle' has no attribute 'forwad'"
     ]
    }
   ],
   "source": [
    "import turtle \n",
    "\n",
    "turtle.forwad(100)\n",
    "\n",
    "turtle.exitonclick()"
   ]
  },
  {
   "cell_type": "code",
   "execution_count": 71,
   "metadata": {},
   "outputs": [],
   "source": [
    "import turtle \n",
    "turtle.shape(\"turtle\")\n",
    "turtle.speed(2)\n",
    "turtle.forward(100)\n",
    "turtle .left(90)#degre\n",
    "turtle.forward(100)\n",
    "turtle .left(90)\n",
    "turtle.forward(100)\n",
    "turtle .left(90)\n",
    "turtle.forward(100)\n",
    "turtle .left(90)\n",
    "turtle.exitonclick()"
   ]
  },
  {
   "cell_type": "code",
   "execution_count": 73,
   "metadata": {},
   "outputs": [],
   "source": [
    "import turtle \n",
    "turtle.shape(\"turtle\")\n",
    "turtle.speed(2)\n",
    "turtle.forward(100)#draw base\n",
    "turtle .left(120)#angle\n",
    "turtle.forward(100)\n",
    "turtle .left(120)\n",
    "turtle.forward(100)\n",
    "\n",
    "turtle.exitonclick()"
   ]
  },
  {
   "cell_type": "markdown",
   "metadata": {},
   "source": [
    "# Loop chapter=6"
   ]
  },
  {
   "cell_type": "code",
   "execution_count": 59,
   "metadata": {},
   "outputs": [
    {
     "name": "stdout",
     "output_type": "stream",
     "text": [
      "I want to be a great programmer.\n",
      "I want to be a great programmer.\n",
      "I want to be a great programmer.\n",
      "I want to be a great programmer.\n",
      "I want to be a great programmer.\n",
      "I want to be a great programmer.\n",
      "I want to be a great programmer.\n",
      "I want to be a great programmer.\n",
      "I want to be a great programmer.\n",
      "I want to be a great programmer.\n"
     ]
    }
   ],
   "source": [
    "for i in range(10):#i=0 then (n-1)\n",
    "    print(\"I want to be a great programmer.\")"
   ]
  },
  {
   "cell_type": "code",
   "execution_count": 60,
   "metadata": {},
   "outputs": [
    {
     "name": "stdout",
     "output_type": "stream",
     "text": [
      "0\n",
      "1\n",
      "2\n",
      "3\n",
      "4\n"
     ]
    }
   ],
   "source": [
    "for i in range(5):\n",
    "    print(i)"
   ]
  },
  {
   "cell_type": "code",
   "execution_count": 75,
   "metadata": {},
   "outputs": [],
   "source": [
    "import turtle \n",
    "turtle.shape(\"turtle\")\n",
    "turtle.speed(2)\n",
    "turtle.forward(100)\n",
    "turtle .left(90)#degre\n",
    "turtle.forward(100)\n",
    "turtle .left(90)\n",
    "turtle.forward(100)\n",
    "turtle .left(90)\n",
    "turtle.forward(100)\n",
    "turtle .left(90)\n",
    "turtle.exitonclick()"
   ]
  },
  {
   "cell_type": "code",
   "execution_count": 62,
   "metadata": {},
   "outputs": [],
   "source": [
    "import turtle \n",
    "turtle.shape(\"turtle\")\n",
    "turtle.speed(2)\n",
    "for i in range(4):\n",
    "   turtle.forward(100)\n",
    "   turtle .left(90)\n",
    "turtle.exitonclick()"
   ]
  },
  {
   "cell_type": "code",
   "execution_count": 64,
   "metadata": {},
   "outputs": [],
   "source": [
    "import turtle \n",
    "turtle.shape(\"turtle\")\n",
    "turtle.speed(2)\n",
    "for i in range(4):\n",
    "   turtle.forward(100)\n",
    "   turtle .left(90)\n",
    "turtle.exitonclick()"
   ]
  },
  {
   "cell_type": "code",
   "execution_count": 65,
   "metadata": {},
   "outputs": [
    {
     "name": "stdout",
     "output_type": "stream",
     "text": [
      "50\n"
     ]
    }
   ],
   "source": [
    "result=0\n",
    "for i in range(50):\n",
    "    result=result+1\n",
    "print(result)"
   ]
  },
  {
   "cell_type": "code",
   "execution_count": 76,
   "metadata": {},
   "outputs": [
    {
     "name": "stdout",
     "output_type": "stream",
     "text": [
      "50\n"
     ]
    }
   ],
   "source": [
    "result=0\n",
    "for _ in range(50):\n",
    "    result=result+1\n",
    "print(result)"
   ]
  },
  {
   "cell_type": "code",
   "execution_count": 77,
   "metadata": {},
   "outputs": [
    {
     "name": "stdout",
     "output_type": "stream",
     "text": [
      "1275\n"
     ]
    }
   ],
   "source": [
    "result=0\n",
    "num=1\n",
    "for _ in range(50):\n",
    "    result=result+num\n",
    "    num=num+1\n",
    "print(result)"
   ]
  },
  {
   "cell_type": "code",
   "execution_count": 78,
   "metadata": {},
   "outputs": [
    {
     "name": "stdout",
     "output_type": "stream",
     "text": [
      "1275\n"
     ]
    }
   ],
   "source": [
    "result=0\n",
    "for num in range(51):\n",
    "    result=result+num\n",
    "print(result)"
   ]
  },
  {
   "cell_type": "code",
   "execution_count": 79,
   "metadata": {},
   "outputs": [
    {
     "name": "stdout",
     "output_type": "stream",
     "text": [
      "1275\n"
     ]
    }
   ],
   "source": [
    "result=0\n",
    "for num in range(1,51):\n",
    "    result+=num\n",
    "print(result)"
   ]
  },
  {
   "cell_type": "code",
   "execution_count": 80,
   "metadata": {},
   "outputs": [
    {
     "name": "stdout",
     "output_type": "stream",
     "text": [
      "1\n",
      "6\n",
      "11\n",
      "16\n"
     ]
    }
   ],
   "source": [
    "for i in range(1,20,5):\n",
    "    print(i)"
   ]
  },
  {
   "cell_type": "code",
   "execution_count": 81,
   "metadata": {},
   "outputs": [
    {
     "name": "stdout",
     "output_type": "stream",
     "text": [
      "9\n"
     ]
    }
   ],
   "source": [
    "number=[6,1,3,0,9,3,2,5]\n",
    "max_n=number[0]\n",
    "for n in number:\n",
    "    if n>max_n:\n",
    "        max_n=n\n",
    "print(max_n)"
   ]
  },
  {
   "cell_type": "code",
   "execution_count": 82,
   "metadata": {},
   "outputs": [
    {
     "name": "stdout",
     "output_type": "stream",
     "text": [
      "0\n",
      "5\n",
      "10\n",
      "15\n",
      "20\n",
      "25\n",
      "30\n",
      "35\n",
      "40\n",
      "45\n",
      "50\n",
      "55\n",
      "60\n",
      "65\n",
      "70\n",
      "75\n",
      "80\n",
      "85\n",
      "90\n",
      "95\n",
      "100\n",
      "Sum is: 1050\n"
     ]
    }
   ],
   "source": [
    "result=0\n",
    "for num in range(100+1):\n",
    "    if num%5==0:\n",
    "        print(num)\n",
    "        result=result+num\n",
    "print(\"Sum is:\",result)"
   ]
  },
  {
   "cell_type": "code",
   "execution_count": 83,
   "metadata": {},
   "outputs": [
    {
     "name": "stdout",
     "output_type": "stream",
     "text": [
      "5\n",
      "10\n",
      "15\n",
      "20\n",
      "25\n",
      "30\n",
      "35\n",
      "40\n",
      "45\n",
      "50\n",
      "55\n",
      "60\n",
      "65\n",
      "70\n",
      "75\n",
      "80\n",
      "85\n",
      "90\n",
      "95\n",
      "100\n",
      "Sum is: 1050\n"
     ]
    }
   ],
   "source": [
    "result=0\n",
    "for num in range(5,101,5):\n",
    "    print(num)\n",
    "    result+=num\n",
    "print(\"Sum is:\",result)"
   ]
  },
  {
   "cell_type": "code",
   "execution_count": 85,
   "metadata": {},
   "outputs": [],
   "source": [
    "import turtle\n",
    "turtle.speed(1)\n",
    "for i in range(20):\n",
    "    turtle.forward(10)\n",
    "    turtle.penup()\n",
    "    turtle.forward(3)\n",
    "    turtle.pendown()\n",
    "turtle.exitonclick()"
   ]
  },
  {
   "cell_type": "code",
   "execution_count": 88,
   "metadata": {},
   "outputs": [],
   "source": [
    "import turtle\n",
    "turtle.speed(1)\n",
    "for side_length in range(50,100,10):#50,60,70,80,90\n",
    "    for i in range(4):#squre loop=4\n",
    "        turtle.forward(side_length)#50,60,70,80,90\n",
    "        turtle.left(90)#angle\n",
    "turtle.exitonclick()"
   ]
  },
  {
   "cell_type": "code",
   "execution_count": 89,
   "metadata": {},
   "outputs": [
    {
     "name": "stdout",
     "output_type": "stream",
     "text": [
      "Bangladesh  is a member of SAARC.\n",
      "Afghanistan  is a member of SAARC.\n",
      "Bhuten  is a member of SAARC.\n",
      "Nepal  is a member of SAARC.\n",
      "India  is a member of SAARC.\n",
      "Pakistan  is a member of SAARC.\n",
      "Sri Lanka  is a member of SAARC.\n"
     ]
    }
   ],
   "source": [
    "#list loop use\n",
    "saarc=[\"Bangladesh\",\"Afghanistan\",\"Bhuten\",\"Nepal\",\"India\",\"Pakistan\",\"Sri Lanka\"]\n",
    "for country in saarc:\n",
    "    print(country,\" is a member of SAARC.\")"
   ]
  },
  {
   "cell_type": "code",
   "execution_count": 90,
   "metadata": {},
   "outputs": [
    {
     "name": "stdout",
     "output_type": "stream",
     "text": [
      "[0, 1, 2, 3, 4, 5, 6, 7, 8, 9, 10]\n"
     ]
    }
   ],
   "source": [
    "li=list(range(11))\n",
    "print(li)"
   ]
  },
  {
   "cell_type": "code",
   "execution_count": 91,
   "metadata": {},
   "outputs": [
    {
     "name": "stdout",
     "output_type": "stream",
     "text": [
      "[2, 4, 6, 8, 10, 12, 14, 16, 18, 20]\n"
     ]
    }
   ],
   "source": [
    "li=list(range(2,21,2))\n",
    "print(li)"
   ]
  },
  {
   "cell_type": "code",
   "execution_count": 92,
   "metadata": {},
   "outputs": [
    {
     "name": "stdout",
     "output_type": "stream",
     "text": [
      "0\n",
      "1\n",
      "2\n",
      "3\n",
      "4\n"
     ]
    }
   ],
   "source": [
    "i=0\n",
    "while i<5:\n",
    "  print(i)\n",
    "  i=i+1"
   ]
  },
  {
   "cell_type": "code",
   "execution_count": 93,
   "metadata": {},
   "outputs": [
    {
     "name": "stdout",
     "output_type": "stream",
     "text": [
      "4\n",
      "3\n",
      "2\n",
      "1\n",
      "0\n",
      "-1\n"
     ]
    }
   ],
   "source": [
    "i=5\n",
    "while i>=0:\n",
    "    i=i-1\n",
    "    print(i)"
   ]
  },
  {
   "cell_type": "code",
   "execution_count": 94,
   "metadata": {},
   "outputs": [
    {
     "name": "stdout",
     "output_type": "stream",
     "text": [
      "Enter your positive number:10\n",
      "10 x 1 = 10\n",
      "10 x 2 = 20\n",
      "10 x 3 = 30\n",
      "10 x 4 = 40\n",
      "10 x 5 = 50\n",
      "10 x 6 = 60\n",
      "10 x 7 = 70\n",
      "10 x 8 = 80\n",
      "10 x 9 = 90\n",
      "10 x 10 = 100\n"
     ]
    }
   ],
   "source": [
    "n=int(input(\"Enter your positive number:\"))\n",
    "m=1\n",
    "while m<=10:\n",
    "    print(n,\"x\",m,\"=\",n*m)\n",
    "    m=m+1"
   ]
  },
  {
   "cell_type": "code",
   "execution_count": 96,
   "metadata": {},
   "outputs": [],
   "source": [
    "import turtle\n",
    "turtle.color(\"red\")\n",
    "turtle.speed(9)\n",
    "counter=0\n",
    "while counter<36:\n",
    "    for i in range(4):\n",
    "        turtle.forward(100)\n",
    "        turtle.left(90)#angle\n",
    "    turtle.left(10)\n",
    "    counter+=1\n",
    "turtle.exitonclick()"
   ]
  },
  {
   "cell_type": "code",
   "execution_count": 98,
   "metadata": {},
   "outputs": [],
   "source": [
    "import turtle\n",
    "turtle.color(\"red\",\"blue\")\n",
    "height=10\n",
    "width=10\n",
    "turtle.speed(5)\n",
    "turtle.penup()\n",
    "for y in range(height):\n",
    "    for x in range(width):\n",
    "        turtle.dot()\n",
    "        turtle.forward(20)\n",
    "    turtle.backward(20*width )\n",
    "    turtle.right(90)\n",
    "    turtle.forward(20)\n",
    "    turtle.left(90)\n",
    "turtle.exitonclick()"
   ]
  },
  {
   "cell_type": "code",
   "execution_count": 100,
   "metadata": {},
   "outputs": [
    {
     "name": "stdout",
     "output_type": "stream",
     "text": [
      "Enter your postive number:5\n",
      "Squre of 5 is 25\n",
      "Enter your postive number:4\n",
      "Squre of 4 is 16\n",
      "Enter your postive number:3\n",
      "Squre of 3 is 9\n",
      "Enter your postive number:0\n"
     ]
    }
   ],
   "source": [
    "#break & continue\n",
    "while True:\n",
    "    n=int(input(\"Enter your postive number:\"))\n",
    "    if n==0:\n",
    "        break\n",
    "    print(\"Squre of\",n,\"is\",n*n)"
   ]
  },
  {
   "cell_type": "code",
   "execution_count": 101,
   "metadata": {},
   "outputs": [
    {
     "name": "stdout",
     "output_type": "stream",
     "text": [
      "Enter your postive number:9\n",
      "Squre of 9 is 81\n",
      "Enter your postive number:8\n",
      "Squre of 8 is 64\n",
      "Enter your postive number:0\n"
     ]
    }
   ],
   "source": [
    "while True:\n",
    "    n=int(input(\"Enter your postive number:\"))\n",
    "    if n<0:\n",
    "        print(\"We only allow positive number.Please try again.\")\n",
    "        continue\n",
    "    if n==0:\n",
    "        break\n",
    "    print(\"Squre of\",n,\"is\",n*n)"
   ]
  },
  {
   "cell_type": "code",
   "execution_count": 103,
   "metadata": {},
   "outputs": [
    {
     "name": "stdout",
     "output_type": "stream",
     "text": [
      "Please enter a number:3\n",
      "Plese enter another number:4\n",
      "Enter add/sub or quit to exit:add\n",
      "Result is  7\n",
      "Please enter a number:4\n",
      "Plese enter another number:5\n",
      "Enter add/sub or quit to exit:quit\n"
     ]
    }
   ],
   "source": [
    "terminate=False\n",
    "while not terminate:\n",
    "    number1=int(input(\"Please enter a number:\"))\n",
    "    number2=int(input(\"Plese enter another number:\"))\n",
    "    while True:\n",
    "        operation=input(\"Enter add/sub or quit to exit:\")\n",
    "        if operation==\"quit\":\n",
    "            terminate=True\n",
    "            break\n",
    "        if  operation not in [\"add\",\"sub\"]:\n",
    "            print(\"unknown operation!\")\n",
    "            continue\n",
    "        if operation==\"add\":\n",
    "            print(\"Result is \",number1+number2)\n",
    "            break\n",
    "        if operation==\"sub\":\n",
    "            print(\"Result is \",number1-number2)\n",
    "            break"
   ]
  },
  {
   "cell_type": "markdown",
   "metadata": {},
   "source": [
    "# Function chapter=7"
   ]
  },
  {
   "cell_type": "code",
   "execution_count": 104,
   "metadata": {},
   "outputs": [],
   "source": [
    "def add(n1,n2):\n",
    "    return n1+n2"
   ]
  },
  {
   "cell_type": "code",
   "execution_count": 105,
   "metadata": {},
   "outputs": [
    {
     "name": "stdout",
     "output_type": "stream",
     "text": [
      "15\n"
     ]
    }
   ],
   "source": [
    "def add(n1,n2):\n",
    "    return n1+n2\n",
    "n=10\n",
    "m=5\n",
    "result=add(n,m)\n",
    "print(result)"
   ]
  },
  {
   "cell_type": "code",
   "execution_count": 106,
   "metadata": {},
   "outputs": [
    {
     "name": "stdout",
     "output_type": "stream",
     "text": [
      "15\n",
      "20\n",
      "30\n",
      "6.0\n"
     ]
    }
   ],
   "source": [
    "def add(n1,n2):\n",
    "    return n1+n2\n",
    "n=10\n",
    "m=5\n",
    "result=add(n,m)\n",
    "print(result)\n",
    "\n",
    "number=10\n",
    "number1=10\n",
    "result=add(number,number1)\n",
    "print(result)\n",
    "\n",
    "n1=20\n",
    "n2=10\n",
    "print(add(n1,n2))\n",
    "\n",
    "print(add(2.5,3.5))"
   ]
  },
  {
   "cell_type": "code",
   "execution_count": 108,
   "metadata": {},
   "outputs": [],
   "source": [
    "import turtle\n",
    "turtle.speed(2)\n",
    "turtle.color(\"red\")\n",
    "def draw_square(side_lenge):\n",
    "    for i in range(4):\n",
    "        turtle.forward(side_lenge)\n",
    "        turtle.left(90)\n",
    "draw_square(100)\n",
    "turtle.exitonclick()"
   ]
  },
  {
   "cell_type": "code",
   "execution_count": 110,
   "metadata": {},
   "outputs": [],
   "source": [
    "import turtle\n",
    "turtle.speed(10)\n",
    "turtle.color(\"red\")\n",
    "def draw_square(side_lenge):\n",
    "    for i in range(4):\n",
    "        turtle.forward(side_lenge)\n",
    "        turtle.left(90)\n",
    "        turtle.right(4)\n",
    "counter=0\n",
    "while counter<50:\n",
    "    draw_square(200)\n",
    "    counter+=1\n",
    "turtle.exitonclick()"
   ]
  },
  {
   "cell_type": "code",
   "execution_count": null,
   "metadata": {},
   "outputs": [],
   "source": [
    "import turtle\n",
    "turtle.speed(10)\n",
    "turtle.color(\"red\")\n",
    "def draw_square(side_lenge):\n",
    "    for i in range(4):\n",
    "        turtle.forward(side_lenge)\n",
    "        turtle.left(90)\n",
    "counter=0\n",
    "while counter<90:\n",
    "    draw_square(150)\n",
    "    turtle.right(4)\n",
    "    counter+=1\n",
    "turtle.exitonclick()"
   ]
  },
  {
   "cell_type": "code",
   "execution_count": null,
   "metadata": {},
   "outputs": [],
   "source": [
    "import turtle\n",
    "\n",
    "turtle.speed(2)\n",
    "turtle.color(\"red\")\n",
    "\n",
    "\n",
    "def draw_square(side_lenge):\n",
    "    for i in range(3):\n",
    "        turtle.forward(side_lenge)\n",
    "        turtle.left(120)\n",
    "\n",
    "\n",
    "draw_square(100)\n",
    "turtle.exitonclick()"
   ]
  },
  {
   "cell_type": "code",
   "execution_count": 113,
   "metadata": {},
   "outputs": [
    {
     "name": "stdout",
     "output_type": "stream",
     "text": [
      "inside myfnc 20\n",
      "inside myfnc 10\n",
      "20\n"
     ]
    }
   ],
   "source": [
    "def myfnc(x):\n",
    "    print(\"inside myfnc\", x)\n",
    "    x=10\n",
    "    print(\"inside myfnc\", x)\n",
    "x=20\n",
    "myfnc(x)\n",
    "print(x)"
   ]
  },
  {
   "cell_type": "code",
   "execution_count": 114,
   "metadata": {},
   "outputs": [
    {
     "name": "stdout",
     "output_type": "stream",
     "text": [
      "y= 20\n",
      "x= 20\n",
      "y: 9\n"
     ]
    }
   ],
   "source": [
    "def myfnc(y):\n",
    "    print(\"y=\",y)\n",
    "    print(\"x=\",x)\n",
    "x=20\n",
    "myfnc(x)\n",
    "print(\"y:\",y)"
   ]
  },
  {
   "cell_type": "code",
   "execution_count": 115,
   "metadata": {},
   "outputs": [
    {
     "name": "stdout",
     "output_type": "stream",
     "text": [
      "y= 20\n",
      "y= 10\n"
     ]
    }
   ],
   "source": [
    "def myfnc(y=10):\n",
    "    print(\"y=\",y)\n",
    "x=20\n",
    "myfnc(x)\n",
    "myfnc()"
   ]
  },
  {
   "cell_type": "code",
   "execution_count": 116,
   "metadata": {},
   "outputs": [
    {
     "ename": "SyntaxError",
     "evalue": "non-default argument follows default argument (<ipython-input-116-8eea83db8098>, line 1)",
     "output_type": "error",
     "traceback": [
      "\u001b[1;36m  File \u001b[1;32m\"<ipython-input-116-8eea83db8098>\"\u001b[1;36m, line \u001b[1;32m1\u001b[0m\n\u001b[1;33m    def myfnc(x,y=10,z):\u001b[0m\n\u001b[1;37m              ^\u001b[0m\n\u001b[1;31mSyntaxError\u001b[0m\u001b[1;31m:\u001b[0m non-default argument follows default argument\n"
     ]
    }
   ],
   "source": [
    "def myfnc(x,y=10,z):\n",
    "    print(\"x=\",x, \"y=\",y,\"z=\",z)\n",
    "x=5\n",
    "y=6\n",
    "z=7\n",
    "myfnc(x,y,z)"
   ]
  },
  {
   "cell_type": "code",
   "execution_count": 117,
   "metadata": {},
   "outputs": [
    {
     "name": "stdout",
     "output_type": "stream",
     "text": [
      "x= 5 y= 6 z= 7\n"
     ]
    }
   ],
   "source": [
    "def myfnc(x,y=10,z=0):\n",
    "    print(\"x=\",x, \"y=\",y,\"z=\",z)\n",
    "x=5\n",
    "y=6\n",
    "z=7\n",
    "myfnc(x,y,z)"
   ]
  },
  {
   "cell_type": "code",
   "execution_count": 118,
   "metadata": {},
   "outputs": [
    {
     "name": "stdout",
     "output_type": "stream",
     "text": [
      "x= 5 y= 6 z= 7\n",
      "x= 5 y= 6 z= 0\n",
      "x= 5 y= 10 z= 0\n"
     ]
    }
   ],
   "source": [
    "def myfnc(x,y=10,z=0):\n",
    "    print(\"x=\",x, \"y=\",y,\"z=\",z)\n",
    "x=5\n",
    "y=6\n",
    "z=7\n",
    "myfnc(x,y,z)\n",
    "myfnc(x,y)\n",
    "myfnc(x)"
   ]
  },
  {
   "cell_type": "code",
   "execution_count": 119,
   "metadata": {},
   "outputs": [
    {
     "name": "stdout",
     "output_type": "stream",
     "text": [
      "51\n"
     ]
    }
   ],
   "source": [
    "def add_numbers(numbers):\n",
    "    result=0\n",
    "    for number in numbers:\n",
    "        result+=number\n",
    "    return result\n",
    "result=add_numbers([1,2,30,4,5,9])\n",
    "print(result)"
   ]
  },
  {
   "cell_type": "code",
   "execution_count": 120,
   "metadata": {},
   "outputs": [
    {
     "name": "stdout",
     "output_type": "stream",
     "text": [
      "before function call [1, 2, 3, 4]\n",
      "after function call [10, 11, 3, 4]\n"
     ]
    }
   ],
   "source": [
    "def test_fnc(li):\n",
    "    li[0]=10\n",
    "    li[1]=11\n",
    "my_list=[1,2,3,4]\n",
    "print(\"before function call\", my_list)\n",
    "test_fnc(my_list)\n",
    "print(\"after function call\", my_list)"
   ]
  },
  {
   "cell_type": "code",
   "execution_count": 121,
   "metadata": {},
   "outputs": [
    {
     "name": "stdout",
     "output_type": "stream",
     "text": [
      "[1, 2, 3, 4]\n",
      "[1, 2, 3, 4]\n",
      "[100, 2, 3, 4]\n",
      "[100, 2, 3, 4]\n"
     ]
    }
   ],
   "source": [
    "list1=[1,2,3,4]\n",
    "list2=list1\n",
    "print(list1)\n",
    "\n",
    "print(list2)\n",
    "list2[0]=100\n",
    "\n",
    "print(list2)\n",
    "print(list1)"
   ]
  },
  {
   "cell_type": "code",
   "execution_count": 122,
   "metadata": {},
   "outputs": [
    {
     "name": "stdout",
     "output_type": "stream",
     "text": [
      "15\n"
     ]
    }
   ],
   "source": [
    "li=[1,2,3,4,5]\n",
    "result=sum(li)\n",
    "print(result)"
   ]
  },
  {
   "cell_type": "code",
   "execution_count": 123,
   "metadata": {},
   "outputs": [
    {
     "name": "stdout",
     "output_type": "stream",
     "text": [
      "3.0\n"
     ]
    }
   ],
   "source": [
    "def test_fnc(num):\n",
    "    sum=0\n",
    "    for avg in num:\n",
    "        sum=sum+avg\n",
    "        result=sum/5\n",
    "    return result\n",
    "my_list=[1,2,3,4,5]\n",
    "result=test_fnc(my_list)\n",
    "print(result)"
   ]
  },
  {
   "cell_type": "markdown",
   "metadata": {},
   "source": [
    "# String chapter=8"
   ]
  },
  {
   "cell_type": "code",
   "execution_count": 124,
   "metadata": {},
   "outputs": [
    {
     "name": "stdout",
     "output_type": "stream",
     "text": [
      "5\n"
     ]
    },
    {
     "data": {
      "text/plain": [
       "0"
      ]
     },
     "execution_count": 124,
     "metadata": {},
     "output_type": "execute_result"
    }
   ],
   "source": [
    "s='hello'\n",
    "len(s)\n",
    "\n",
    "l=len(s)\n",
    "l\n",
    "\n",
    "print(l)\n",
    "\n",
    "s=''\n",
    "len(s)\n",
    "\n",
    "s=\"\"\n",
    "len(s)"
   ]
  },
  {
   "cell_type": "code",
   "execution_count": 125,
   "metadata": {},
   "outputs": [
    {
     "name": "stdout",
     "output_type": "stream",
     "text": [
      "Dimik's\n",
      "Dimik's\n"
     ]
    }
   ],
   "source": [
    "s=\"Dimik's\"\n",
    "print(s)\n",
    "\n",
    "s='Dimik\\'s'\n",
    "print(s)"
   ]
  },
  {
   "cell_type": "code",
   "execution_count": 126,
   "metadata": {},
   "outputs": [
    {
     "ename": "IndexError",
     "evalue": "string index out of range",
     "output_type": "error",
     "traceback": [
      "\u001b[1;31m---------------------------------------------------------------------------\u001b[0m",
      "\u001b[1;31mIndexError\u001b[0m                                Traceback (most recent call last)",
      "\u001b[1;32m<ipython-input-126-8b89c5690d39>\u001b[0m in \u001b[0;36m<module>\u001b[1;34m\u001b[0m\n\u001b[0;32m      6\u001b[0m \u001b[0mCountry\u001b[0m\u001b[1;33m[\u001b[0m\u001b[1;36m8\u001b[0m\u001b[1;33m]\u001b[0m\u001b[1;33m\u001b[0m\u001b[1;33m\u001b[0m\u001b[0m\n\u001b[0;32m      7\u001b[0m \u001b[0mCountry\u001b[0m\u001b[1;33m[\u001b[0m\u001b[1;36m9\u001b[0m\u001b[1;33m]\u001b[0m\u001b[1;33m\u001b[0m\u001b[1;33m\u001b[0m\u001b[0m\n\u001b[1;32m----> 8\u001b[1;33m \u001b[0mCountry\u001b[0m\u001b[1;33m[\u001b[0m\u001b[1;36m10\u001b[0m\u001b[1;33m]\u001b[0m\u001b[1;33m\u001b[0m\u001b[1;33m\u001b[0m\u001b[0m\n\u001b[0m",
      "\u001b[1;31mIndexError\u001b[0m: string index out of range"
     ]
    }
   ],
   "source": [
    "Country=\"Bangladesh\"\n",
    "Country[0]\n",
    "Country[1]\n",
    "Country[2]\n",
    "Country[6]\n",
    "Country[8]\n",
    "Country[9]\n",
    "Country[10]"
   ]
  },
  {
   "cell_type": "code",
   "execution_count": 127,
   "metadata": {},
   "outputs": [
    {
     "name": "stdout",
     "output_type": "stream",
     "text": [
      "B\n",
      "a\n",
      "n\n",
      "g\n",
      "l\n",
      "a\n",
      "d\n",
      "e\n",
      "s\n",
      "h\n"
     ]
    }
   ],
   "source": [
    "country=\"Bangladesh\"\n",
    "for i in country:\n",
    "    print(i)"
   ]
  },
  {
   "cell_type": "code",
   "execution_count": 128,
   "metadata": {},
   "outputs": [
    {
     "name": "stdout",
     "output_type": "stream",
     "text": [
      "['A', 'b', 'c']\n",
      "['a', 'b', 'c']\n"
     ]
    },
    {
     "ename": "TypeError",
     "evalue": "'str' object does not support item assignment",
     "output_type": "error",
     "traceback": [
      "\u001b[1;31m---------------------------------------------------------------------------\u001b[0m",
      "\u001b[1;31mTypeError\u001b[0m                                 Traceback (most recent call last)",
      "\u001b[1;32m<ipython-input-128-6de6473b78f5>\u001b[0m in \u001b[0;36m<module>\u001b[1;34m\u001b[0m\n\u001b[0;32m      6\u001b[0m \u001b[1;31m#String\u001b[0m\u001b[1;33m\u001b[0m\u001b[1;33m\u001b[0m\u001b[1;33m\u001b[0m\u001b[0m\n\u001b[0;32m      7\u001b[0m \u001b[0mcountry\u001b[0m\u001b[1;33m=\u001b[0m\u001b[1;34m\"Bangledesh\"\u001b[0m\u001b[1;33m\u001b[0m\u001b[1;33m\u001b[0m\u001b[0m\n\u001b[1;32m----> 8\u001b[1;33m \u001b[0mcountry\u001b[0m\u001b[1;33m[\u001b[0m\u001b[1;36m0\u001b[0m\u001b[1;33m]\u001b[0m\u001b[1;33m=\u001b[0m\u001b[1;34m'b'\u001b[0m\u001b[1;33m\u001b[0m\u001b[1;33m\u001b[0m\u001b[0m\n\u001b[0m",
      "\u001b[1;31mTypeError\u001b[0m: 'str' object does not support item assignment"
     ]
    }
   ],
   "source": [
    "#list\n",
    "c=['A','b','c']\n",
    "print(c)\n",
    "c[0]='a'\n",
    "print(c)\n",
    "#String\n",
    "country=\"Bangledesh\"\n",
    "country[0]='b'"
   ]
  },
  {
   "cell_type": "code",
   "execution_count": 129,
   "metadata": {},
   "outputs": [
    {
     "name": "stdout",
     "output_type": "stream",
     "text": [
      "Bangladesh\n",
      "505\n"
     ]
    }
   ],
   "source": [
    "country=\"Bangla\"+\"desh\"\n",
    "print(country)\n",
    "x=\"50\"+\"5\"\n",
    "print(x)"
   ]
  },
  {
   "cell_type": "code",
   "execution_count": 130,
   "metadata": {},
   "outputs": [
    {
     "data": {
      "text/plain": [
       "6"
      ]
     },
     "execution_count": 130,
     "metadata": {},
     "output_type": "execute_result"
    }
   ],
   "source": [
    "country=\"Bangladesh\"\n",
    "country.find(\"Ban\")\n",
    "country.find(\"ang\")\n",
    "country.find(\"Bangla\")\n",
    "country.find(\"Bengla\")\n",
    "country.find(\"desh\")"
   ]
  },
  {
   "cell_type": "code",
   "execution_count": 131,
   "metadata": {},
   "outputs": [
    {
     "name": "stdout",
     "output_type": "stream",
     "text": [
      "South Korea\n",
      "North Korea\n",
      "This is a test.This is another test.This is final test.\n",
      "this is a test.this is another test.this is final test.\n"
     ]
    }
   ],
   "source": [
    "country=\"North Korea\"\n",
    "new_country=country.replace(\"North\",\"South\")\n",
    "print(new_country)\n",
    "print(country)\n",
    "text=\"this is a test.this is another test.this is final test.\"\n",
    "new_text=text.replace(\"this\",\"This\")\n",
    "print(new_text)\n",
    "print(text)"
   ]
  },
  {
   "cell_type": "code",
   "execution_count": 132,
   "metadata": {},
   "outputs": [
    {
     "name": "stdout",
     "output_type": "stream",
     "text": [
      "Hello\n"
     ]
    }
   ],
   "source": [
    "text=\"hello\"\n",
    "text=text.replace(\"hello\",\"Hello\")\n",
    "print(text)"
   ]
  },
  {
   "cell_type": "code",
   "execution_count": 133,
   "metadata": {},
   "outputs": [
    {
     "data": {
      "text/plain": [
       "'  this is a string.'"
      ]
     },
     "execution_count": 133,
     "metadata": {},
     "output_type": "execute_result"
    }
   ],
   "source": [
    "text=\"  this is a string.\"\n",
    "text"
   ]
  },
  {
   "cell_type": "code",
   "execution_count": 134,
   "metadata": {},
   "outputs": [
    {
     "data": {
      "text/plain": [
       "'this is a string.  '"
      ]
     },
     "execution_count": 134,
     "metadata": {},
     "output_type": "execute_result"
    }
   ],
   "source": [
    "text=\"  this is a string.  \"\n",
    "text.lstrip()"
   ]
  },
  {
   "cell_type": "code",
   "execution_count": 135,
   "metadata": {},
   "outputs": [
    {
     "data": {
      "text/plain": [
       "'  this is a string.'"
      ]
     },
     "execution_count": 135,
     "metadata": {},
     "output_type": "execute_result"
    }
   ],
   "source": [
    "text=\"  this is a string.  \"\n",
    "text.rstrip()"
   ]
  },
  {
   "cell_type": "code",
   "execution_count": 136,
   "metadata": {},
   "outputs": [
    {
     "data": {
      "text/plain": [
       "'this is a string.'"
      ]
     },
     "execution_count": 136,
     "metadata": {},
     "output_type": "execute_result"
    }
   ],
   "source": [
    "text=\"  this is a string.  \"\n",
    "text.strip()"
   ]
  },
  {
   "cell_type": "code",
   "execution_count": 137,
   "metadata": {},
   "outputs": [
    {
     "data": {
      "text/plain": [
       "'  this is a string.  '"
      ]
     },
     "execution_count": 137,
     "metadata": {},
     "output_type": "execute_result"
    }
   ],
   "source": [
    "text=\"  this is a string.  \"\n",
    "new_text=text.rstrip()\n",
    "new_text\n",
    "text"
   ]
  },
  {
   "cell_type": "code",
   "execution_count": 138,
   "metadata": {},
   "outputs": [
    {
     "data": {
      "text/plain": [
       "'BANGLADESH'"
      ]
     },
     "execution_count": 138,
     "metadata": {},
     "output_type": "execute_result"
    }
   ],
   "source": [
    "s1=\"Bangladesh\"\n",
    "s_up=s1.upper()\n",
    "s_up"
   ]
  },
  {
   "cell_type": "code",
   "execution_count": 139,
   "metadata": {},
   "outputs": [
    {
     "data": {
      "text/plain": [
       "'bangladesh'"
      ]
     },
     "execution_count": 139,
     "metadata": {},
     "output_type": "execute_result"
    }
   ],
   "source": [
    "s1=\"Bangladesh\"\n",
    "s_lo=s1.lower()\n",
    "s_lo"
   ]
  },
  {
   "cell_type": "code",
   "execution_count": 140,
   "metadata": {},
   "outputs": [
    {
     "data": {
      "text/plain": [
       "'Hello'"
      ]
     },
     "execution_count": 140,
     "metadata": {},
     "output_type": "execute_result"
    }
   ],
   "source": [
    "s=\"hello\"\n",
    "s_cap=s.capitalize()\n",
    "s_cap"
   ]
  },
  {
   "cell_type": "code",
   "execution_count": 141,
   "metadata": {},
   "outputs": [
    {
     "name": "stdout",
     "output_type": "stream",
     "text": [
      "['I', 'am', 'a', 'programmer.']\n"
     ]
    }
   ],
   "source": [
    "str=\"I am a programmer.\"\n",
    "words=str.split()\n",
    "print(words)"
   ]
  },
  {
   "cell_type": "code",
   "execution_count": 142,
   "metadata": {},
   "outputs": [
    {
     "data": {
      "text/plain": [
       "['I', 'am', 'a', 'programmer.']"
      ]
     },
     "execution_count": 142,
     "metadata": {},
     "output_type": "execute_result"
    }
   ],
   "source": [
    "str=\"I am a programmer.\"\n",
    "words=str.split()\n",
    "words"
   ]
  },
  {
   "cell_type": "code",
   "execution_count": 143,
   "metadata": {},
   "outputs": [
    {
     "name": "stdout",
     "output_type": "stream",
     "text": [
      "I\n",
      "am\n",
      "a\n",
      "programmer.\n"
     ]
    }
   ],
   "source": [
    "str=\"I am a programmer.\"\n",
    "words=str.split()\n",
    "for word in words:\n",
    "    print(word)"
   ]
  },
  {
   "cell_type": "code",
   "execution_count": 144,
   "metadata": {},
   "outputs": [
    {
     "data": {
      "text/plain": [
       "2"
      ]
     },
     "execution_count": 144,
     "metadata": {},
     "output_type": "execute_result"
    }
   ],
   "source": [
    "str=\"This is\"\n",
    "str.count(\"is\")"
   ]
  },
  {
   "cell_type": "code",
   "execution_count": 145,
   "metadata": {},
   "outputs": [
    {
     "data": {
      "text/plain": [
       "True"
      ]
     },
     "execution_count": 145,
     "metadata": {},
     "output_type": "execute_result"
    }
   ],
   "source": [
    "s=\"Bangladesh\"\n",
    "s.startswith(\"Ban\")\n",
    "s.startswith(\"ban\")\n",
    "s.startswith(\"an\")\n",
    "s.endswith(\"Bang\")\n",
    "s.endswith(\"desh\")\n",
    "s.endswith(\"h\")"
   ]
  },
  {
   "cell_type": "code",
   "execution_count": 146,
   "metadata": {},
   "outputs": [
    {
     "name": "stdout",
     "output_type": "stream",
     "text": [
      "Dear Sir\n"
     ]
    }
   ],
   "source": [
    "name=\"Mr.hamid\"\n",
    "if name.startswith(\"Mr.\"):\n",
    "    print(\"Dear Sir\")"
   ]
  },
  {
   "cell_type": "code",
   "execution_count": 148,
   "metadata": {},
   "outputs": [
    {
     "name": "stdout",
     "output_type": "stream",
     "text": [
      "Hi Hamid! How are you?\n"
     ]
    }
   ],
   "source": [
    "import turtle\n",
    "name=turtle.textinput(\"name\",\"What is your name?\")\n",
    "name=name.lower()\n",
    "if name.startswith(\"mr.\"):\n",
    "    print(\"Hello sir, how are you?\")\n",
    "elif name.startswith(\"mrs.\") or name.startswith(\"miss.\") or name.startswith(\"ms.\"):\n",
    "    print(\"Hello Madam,how are you?\")\n",
    "else:\n",
    "    name=name.capitalize()\n",
    "    str=\"Hi \" +name+ \"! How are you?\"\n",
    "    print(str)\n",
    "turtle.exitonclick()"
   ]
  },
  {
   "cell_type": "code",
   "execution_count": 149,
   "metadata": {},
   "outputs": [
    {
     "name": "stdout",
     "output_type": "stream",
     "text": [
      "a 2\n",
      "b 1\n",
      "c 1\n",
      "d 1\n",
      "e 2\n",
      "f 1\n",
      "g 1\n",
      "h 1\n",
      "i 1\n",
      "j 1\n",
      "k 1\n",
      "l 1\n",
      "m 1\n",
      "n 1\n",
      "o 4\n",
      "p 1\n",
      "q 1\n",
      "r 2\n",
      "s 1\n",
      "t 1\n",
      "u 2\n",
      "b 1\n",
      "w 1\n",
      "x 1\n",
      "y 1\n",
      "z 1\n"
     ]
    }
   ],
   "source": [
    "str=\"a quick brown fox jumps over the lazy dog\"\n",
    "for c in \"abcdefghijklmnopqrstubwxyz\":\n",
    "    print(c,str.count(c))"
   ]
  },
  {
   "cell_type": "markdown",
   "metadata": {},
   "source": [
    "# data Structure chapter=9"
   ]
  },
  {
   "cell_type": "code",
   "execution_count": 150,
   "metadata": {},
   "outputs": [
    {
     "name": "stdout",
     "output_type": "stream",
     "text": [
      "['Bangladesh', 'India', 'Sri Lanka', 'Pakistan', 'Nepal', 'Bhutan']\n",
      "['Bangladesh', 'India', 'Sri Lanka', 'Pakistan', 'Nepal', 'Bhutan', 'Chittagong']\n"
     ]
    }
   ],
   "source": [
    "saarc=[\"Bangladesh\",\"India\",\"Sri Lanka\",\"Pakistan\",\"Nepal\",\"Bhutan\"]\n",
    "print(saarc)\n",
    "saarc.append(\"Chittagong\")\n",
    "print(saarc)"
   ]
  },
  {
   "cell_type": "code",
   "execution_count": 151,
   "metadata": {},
   "outputs": [
    {
     "name": "stdout",
     "output_type": "stream",
     "text": [
      "['Bangladesh', 'Bhutan', 'India', 'Nepal', 'Pakistan', 'Sri Lanka']\n",
      "[1, 2, 6, 7, 8, 24]\n"
     ]
    }
   ],
   "source": [
    "saarc=[\"Bangladesh\",\"India\",\"Sri Lanka\",\"Pakistan\",\"Nepal\",\"Bhutan\"]\n",
    "saarc.sort()\n",
    "print(saarc)\n",
    "li=[1,24,7,2,6,8]\n",
    "li.sort()\n",
    "print(li)"
   ]
  },
  {
   "cell_type": "code",
   "execution_count": 152,
   "metadata": {},
   "outputs": [
    {
     "name": "stdout",
     "output_type": "stream",
     "text": [
      "[6, 5, 4, 3, 2, 1]\n",
      "['orange', 'banana', 'mango']\n"
     ]
    }
   ],
   "source": [
    "li=[1,2,3,4,5,6]\n",
    "li.reverse()\n",
    "print(li)\n",
    "li=[\"mango\",\"banana\",\"orange\"]\n",
    "li.reverse()\n",
    "print(li)"
   ]
  },
  {
   "cell_type": "code",
   "execution_count": 153,
   "metadata": {},
   "outputs": [
    {
     "name": "stdout",
     "output_type": "stream",
     "text": [
      "['apple', 'mango', 'banana', 'orange']\n",
      "['apple', 'mango', 'coconut', 'banana', 'orange']\n"
     ]
    }
   ],
   "source": [
    "fruits=[\"mango\",\"banana\",\"orange\"]\n",
    "fruits.insert(0,\"apple\")#(index,item)\n",
    "print(fruits)\n",
    "fruits.insert(2,\"coconut\")\n",
    "print(fruits)"
   ]
  },
  {
   "cell_type": "code",
   "execution_count": 154,
   "metadata": {},
   "outputs": [
    {
     "name": "stdout",
     "output_type": "stream",
     "text": [
      "['apple', 'mango', 'banana', 'orange']\n"
     ]
    },
    {
     "ename": "ValueError",
     "evalue": "list.remove(x): x not in list",
     "output_type": "error",
     "traceback": [
      "\u001b[1;31m---------------------------------------------------------------------------\u001b[0m",
      "\u001b[1;31mValueError\u001b[0m                                Traceback (most recent call last)",
      "\u001b[1;32m<ipython-input-154-b6be35e77c7b>\u001b[0m in \u001b[0;36m<module>\u001b[1;34m\u001b[0m\n\u001b[0;32m      2\u001b[0m \u001b[0mfruits\u001b[0m\u001b[1;33m.\u001b[0m\u001b[0mremove\u001b[0m\u001b[1;33m(\u001b[0m\u001b[1;34m\"coconut\"\u001b[0m\u001b[1;33m)\u001b[0m\u001b[1;33m\u001b[0m\u001b[1;33m\u001b[0m\u001b[0m\n\u001b[0;32m      3\u001b[0m \u001b[0mprint\u001b[0m\u001b[1;33m(\u001b[0m\u001b[0mfruits\u001b[0m\u001b[1;33m)\u001b[0m\u001b[1;33m\u001b[0m\u001b[1;33m\u001b[0m\u001b[0m\n\u001b[1;32m----> 4\u001b[1;33m \u001b[0mfruits\u001b[0m\u001b[1;33m.\u001b[0m\u001b[0mremove\u001b[0m\u001b[1;33m(\u001b[0m\u001b[1;34m\"pineapple\"\u001b[0m\u001b[1;33m)\u001b[0m\u001b[1;33m\u001b[0m\u001b[1;33m\u001b[0m\u001b[0m\n\u001b[0m\u001b[0;32m      5\u001b[0m \u001b[0mprint\u001b[0m\u001b[1;33m(\u001b[0m\u001b[0mfruits\u001b[0m\u001b[1;33m)\u001b[0m\u001b[1;33m\u001b[0m\u001b[1;33m\u001b[0m\u001b[0m\n",
      "\u001b[1;31mValueError\u001b[0m: list.remove(x): x not in list"
     ]
    }
   ],
   "source": [
    "fruits=[\"apple\",\"mango\",\"coconut\",\"banana\",\"orange\"]\n",
    "fruits.remove(\"coconut\")\n",
    "print(fruits)\n",
    "fruits.remove(\"pineapple\")\n",
    "print(fruits)"
   ]
  },
  {
   "cell_type": "code",
   "execution_count": 155,
   "metadata": {},
   "outputs": [
    {
     "name": "stdout",
     "output_type": "stream",
     "text": [
      "['apple', 'mango', 'banana', 'orange']\n",
      "pineapple  not in list\n"
     ]
    }
   ],
   "source": [
    "fruits=[\"apple\",\"mango\",\"coconut\",\"banana\",\"orange\"]\n",
    "fruits.remove(\"coconut\")\n",
    "print(fruits)\n",
    "item=\"pineapple\"\n",
    "if item in fruits:#item==fruits\n",
    "    remove(item)\n",
    "else:\n",
    "    print(item, \" not in list\")"
   ]
  },
  {
   "cell_type": "code",
   "execution_count": 156,
   "metadata": {},
   "outputs": [
    {
     "name": "stdout",
     "output_type": "stream",
     "text": [
      "orange\n",
      "['apple', 'mango', 'banana']\n"
     ]
    }
   ],
   "source": [
    "fruits=[\"apple\",\"mango\",\"banana\",\"orange\"]\n",
    "item=fruits.pop()\n",
    "print(item)\n",
    "print(fruits)"
   ]
  },
  {
   "cell_type": "code",
   "execution_count": 157,
   "metadata": {},
   "outputs": [
    {
     "name": "stdout",
     "output_type": "stream",
     "text": [
      "mango\n",
      "['apple', 'banana', 'orange']\n"
     ]
    }
   ],
   "source": [
    "fruits=[\"apple\",\"mango\",\"banana\",\"orange\"]\n",
    "item=fruits.pop(1)\n",
    "print(item)\n",
    "print(fruits)"
   ]
  },
  {
   "cell_type": "code",
   "execution_count": 158,
   "metadata": {},
   "outputs": [
    {
     "name": "stdout",
     "output_type": "stream",
     "text": [
      "[1, 2, 3, 4, 4, 5, 6, 7, 8]\n"
     ]
    }
   ],
   "source": [
    "li=[1,2,3,4]\n",
    "li2=[4,5,6,7,8]\n",
    "li.extend(li2)\n",
    "print(li)"
   ]
  },
  {
   "cell_type": "code",
   "execution_count": 159,
   "metadata": {},
   "outputs": [
    {
     "name": "stdout",
     "output_type": "stream",
     "text": [
      "2\n",
      "2\n",
      "2\n"
     ]
    }
   ],
   "source": [
    "li=[1,2,2,3,3,5,6,7,10,10]\n",
    "print(li.count(2))\n",
    "print(li.count(3))\n",
    "print(li.count(10))"
   ]
  },
  {
   "cell_type": "code",
   "execution_count": 165,
   "metadata": {},
   "outputs": [
    {
     "name": "stdout",
     "output_type": "stream",
     "text": [
      "[1, 3, 3, 4, 5, 6]\n",
      "[3, 3, 4, 5, 6]\n"
     ]
    },
    {
     "ename": "NameError",
     "evalue": "name 'li' is not defined",
     "output_type": "error",
     "traceback": [
      "\u001b[1;31m---------------------------------------------------------------------------\u001b[0m",
      "\u001b[1;31mNameError\u001b[0m                                 Traceback (most recent call last)",
      "\u001b[1;32m<ipython-input-165-876491dd74f3>\u001b[0m in \u001b[0;36m<module>\u001b[1;34m\u001b[0m\n\u001b[0;32m      5\u001b[0m \u001b[0mprint\u001b[0m\u001b[1;33m(\u001b[0m\u001b[0mli\u001b[0m\u001b[1;33m)\u001b[0m\u001b[1;33m\u001b[0m\u001b[1;33m\u001b[0m\u001b[0m\n\u001b[0;32m      6\u001b[0m \u001b[1;32mdel\u001b[0m\u001b[1;33m(\u001b[0m\u001b[0mli\u001b[0m\u001b[1;33m)\u001b[0m\u001b[1;33m\u001b[0m\u001b[1;33m\u001b[0m\u001b[0m\n\u001b[1;32m----> 7\u001b[1;33m \u001b[0mprint\u001b[0m\u001b[1;33m(\u001b[0m\u001b[0mli\u001b[0m\u001b[1;33m)\u001b[0m\u001b[1;33m\u001b[0m\u001b[1;33m\u001b[0m\u001b[0m\n\u001b[0m",
      "\u001b[1;31mNameError\u001b[0m: name 'li' is not defined"
     ]
    }
   ],
   "source": [
    "li=[1,2,3,3,4,5,6]\n",
    "del(li[1])\n",
    "print(li)\n",
    "del(li[0])\n",
    "print(li)\n",
    "del(li)\n",
    "print(li)"
   ]
  },
  {
   "cell_type": "code",
   "execution_count": 166,
   "metadata": {},
   "outputs": [
    {
     "name": "stdout",
     "output_type": "stream",
     "text": [
      "[0, 1, 2, 3, 4, 5, 6, 7, 8, 9]\n"
     ]
    }
   ],
   "source": [
    "li=[]\n",
    "for x in range(10):\n",
    "    li.append(x)\n",
    "print(li)"
   ]
  },
  {
   "cell_type": "code",
   "execution_count": 167,
   "metadata": {},
   "outputs": [
    {
     "name": "stdout",
     "output_type": "stream",
     "text": [
      "[1, 2, 3, 4, 5, 6]\n",
      "[1, 2, 3, 1, 2, 3, 1, 2, 3]\n"
     ]
    }
   ],
   "source": [
    "li1=[1,2,3]\n",
    "li2=[4,5,6]\n",
    "li=li1+li2\n",
    "print(li)\n",
    "li=[1,2,3]\n",
    "li2=li*3\n",
    "print(li2)"
   ]
  },
  {
   "cell_type": "code",
   "execution_count": 168,
   "metadata": {},
   "outputs": [
    {
     "name": "stdout",
     "output_type": "stream",
     "text": [
      "['a', 'b', 'c']\n",
      "abc\n",
      "a,b,c\n",
      "a-b-c\n"
     ]
    }
   ],
   "source": [
    "li=[\"a\",\"b\",\"c\"]\n",
    "print(li)\n",
    "str=\"\".join(li)\n",
    "print(str)\n",
    "str=\",\".join(li)\n",
    "print(str)\n",
    "str=\"-\".join(li)\n",
    "print(str)"
   ]
  },
  {
   "cell_type": "code",
   "execution_count": 169,
   "metadata": {},
   "outputs": [
    {
     "name": "stdout",
     "output_type": "stream",
     "text": [
      "[2, 4, 6]\n"
     ]
    }
   ],
   "source": [
    "li=[1,2,3]\n",
    "new_li=[]\n",
    "for x in li:\n",
    "    new_li.append(x*2)\n",
    "print(new_li)"
   ]
  },
  {
   "cell_type": "code",
   "execution_count": 170,
   "metadata": {},
   "outputs": [
    {
     "name": "stdout",
     "output_type": "stream",
     "text": [
      "[2, 4, 6, 8]\n"
     ]
    }
   ],
   "source": [
    "li=[1,2,3,4]\n",
    "new_li=[2*x for x in li]\n",
    "print(new_li)"
   ]
  },
  {
   "cell_type": "code",
   "execution_count": 171,
   "metadata": {},
   "outputs": [
    {
     "name": "stdout",
     "output_type": "stream",
     "text": [
      "[2, 4, 6, 8, 10]\n"
     ]
    }
   ],
   "source": [
    "li=[1,2,3,4,5,6,7,8,9,10]\n",
    "even_numbers=[]\n",
    "for x in li:\n",
    "    if x%2==0:\n",
    "        even_numbers.append(x)\n",
    "print(even_numbers)"
   ]
  },
  {
   "cell_type": "code",
   "execution_count": 172,
   "metadata": {},
   "outputs": [
    {
     "name": "stdout",
     "output_type": "stream",
     "text": [
      "[2, 4, 6, 8, 10]\n"
     ]
    }
   ],
   "source": [
    "#list comprehensions\n",
    "even_numbers=[x for x in range(1,11) if x%2==0]\n",
    "print(even_numbers)"
   ]
  },
  {
   "cell_type": "code",
   "execution_count": 173,
   "metadata": {},
   "outputs": [
    {
     "name": "stdout",
     "output_type": "stream",
     "text": [
      "[1, 4, 9, 16]\n"
     ]
    }
   ],
   "source": [
    "new_li=[x*x for x in range(1,5)]\n",
    "print(new_li)"
   ]
  },
  {
   "cell_type": "code",
   "execution_count": 174,
   "metadata": {},
   "outputs": [
    {
     "data": {
      "text/plain": [
       "tuple"
      ]
     },
     "execution_count": 174,
     "metadata": {},
     "output_type": "execute_result"
    }
   ],
   "source": [
    "#tuple\n",
    "x=(1,2,3)\n",
    "type(x)"
   ]
  },
  {
   "cell_type": "code",
   "execution_count": 175,
   "metadata": {},
   "outputs": [
    {
     "data": {
      "text/plain": [
       "tuple"
      ]
     },
     "execution_count": 175,
     "metadata": {},
     "output_type": "execute_result"
    }
   ],
   "source": [
    "x=1,2,3\n",
    "type(x)"
   ]
  },
  {
   "cell_type": "code",
   "execution_count": 176,
   "metadata": {},
   "outputs": [
    {
     "name": "stdout",
     "output_type": "stream",
     "text": [
      "<class 'int'>\n",
      "<class 'tuple'>\n"
     ]
    }
   ],
   "source": [
    "x=1\n",
    "print(type(x))\n",
    "x=1,\n",
    "print(type(x))"
   ]
  },
  {
   "cell_type": "code",
   "execution_count": 177,
   "metadata": {},
   "outputs": [
    {
     "data": {
      "text/plain": [
       "tuple"
      ]
     },
     "execution_count": 177,
     "metadata": {},
     "output_type": "execute_result"
    }
   ],
   "source": [
    "t=()\n",
    "type(x)"
   ]
  },
  {
   "cell_type": "code",
   "execution_count": 178,
   "metadata": {},
   "outputs": [
    {
     "name": "stdout",
     "output_type": "stream",
     "text": [
      "1\n",
      "2\n",
      "3\n"
     ]
    },
    {
     "ename": "IndexError",
     "evalue": "tuple index out of range",
     "output_type": "error",
     "traceback": [
      "\u001b[1;31m---------------------------------------------------------------------------\u001b[0m",
      "\u001b[1;31mIndexError\u001b[0m                                Traceback (most recent call last)",
      "\u001b[1;32m<ipython-input-178-84bd6c909911>\u001b[0m in \u001b[0;36m<module>\u001b[1;34m\u001b[0m\n\u001b[0;32m      3\u001b[0m \u001b[0mprint\u001b[0m\u001b[1;33m(\u001b[0m\u001b[0mx\u001b[0m\u001b[1;33m[\u001b[0m\u001b[1;36m1\u001b[0m\u001b[1;33m]\u001b[0m\u001b[1;33m)\u001b[0m\u001b[1;33m\u001b[0m\u001b[1;33m\u001b[0m\u001b[0m\n\u001b[0;32m      4\u001b[0m \u001b[0mprint\u001b[0m\u001b[1;33m(\u001b[0m\u001b[0mx\u001b[0m\u001b[1;33m[\u001b[0m\u001b[1;36m2\u001b[0m\u001b[1;33m]\u001b[0m\u001b[1;33m)\u001b[0m\u001b[1;33m\u001b[0m\u001b[1;33m\u001b[0m\u001b[0m\n\u001b[1;32m----> 5\u001b[1;33m \u001b[0mprint\u001b[0m\u001b[1;33m(\u001b[0m\u001b[0mx\u001b[0m\u001b[1;33m[\u001b[0m\u001b[1;36m3\u001b[0m\u001b[1;33m]\u001b[0m\u001b[1;33m)\u001b[0m\u001b[1;33m\u001b[0m\u001b[1;33m\u001b[0m\u001b[0m\n\u001b[0m",
      "\u001b[1;31mIndexError\u001b[0m: tuple index out of range"
     ]
    }
   ],
   "source": [
    "x=(1,2,3)\n",
    "print(x[0])\n",
    "print(x[1])\n",
    "print(x[2])\n",
    "print(x[3])"
   ]
  },
  {
   "cell_type": "code",
   "execution_count": 179,
   "metadata": {},
   "outputs": [
    {
     "name": "stdout",
     "output_type": "stream",
     "text": [
      "[1, 2, 3]\n",
      "[5, 2, 3]\n",
      "(1, 2, 3)\n"
     ]
    },
    {
     "ename": "TypeError",
     "evalue": "'tuple' object does not support item assignment",
     "output_type": "error",
     "traceback": [
      "\u001b[1;31m---------------------------------------------------------------------------\u001b[0m",
      "\u001b[1;31mTypeError\u001b[0m                                 Traceback (most recent call last)",
      "\u001b[1;32m<ipython-input-179-ddeb8b5bfe66>\u001b[0m in \u001b[0;36m<module>\u001b[1;34m\u001b[0m\n\u001b[0;32m      5\u001b[0m \u001b[0mtpl\u001b[0m\u001b[1;33m=\u001b[0m\u001b[1;33m(\u001b[0m\u001b[1;36m1\u001b[0m\u001b[1;33m,\u001b[0m\u001b[1;36m2\u001b[0m\u001b[1;33m,\u001b[0m\u001b[1;36m3\u001b[0m\u001b[1;33m)\u001b[0m\u001b[1;33m\u001b[0m\u001b[1;33m\u001b[0m\u001b[0m\n\u001b[0;32m      6\u001b[0m \u001b[0mprint\u001b[0m\u001b[1;33m(\u001b[0m\u001b[0mtpl\u001b[0m\u001b[1;33m)\u001b[0m\u001b[1;33m\u001b[0m\u001b[1;33m\u001b[0m\u001b[0m\n\u001b[1;32m----> 7\u001b[1;33m \u001b[0mtpl\u001b[0m\u001b[1;33m[\u001b[0m\u001b[1;36m0\u001b[0m\u001b[1;33m]\u001b[0m\u001b[1;33m=\u001b[0m\u001b[1;36m5\u001b[0m\u001b[1;33m\u001b[0m\u001b[1;33m\u001b[0m\u001b[0m\n\u001b[0m\u001b[0;32m      8\u001b[0m \u001b[0mprint\u001b[0m\u001b[1;33m(\u001b[0m\u001b[0mtpl\u001b[0m\u001b[1;33m)\u001b[0m\u001b[1;33m\u001b[0m\u001b[1;33m\u001b[0m\u001b[0m\n",
      "\u001b[1;31mTypeError\u001b[0m: 'tuple' object does not support item assignment"
     ]
    }
   ],
   "source": [
    "li=[1,2,3]\n",
    "print(li)\n",
    "li[0]=5\n",
    "print(li)\n",
    "tpl=(1,2,3)\n",
    "print(tpl)\n",
    "tpl[0]=5\n",
    "print(tpl)"
   ]
  },
  {
   "cell_type": "code",
   "execution_count": 180,
   "metadata": {},
   "outputs": [
    {
     "name": "stdout",
     "output_type": "stream",
     "text": [
      "10\n",
      "20\n",
      "30\n",
      "40\n",
      "(30, 40)\n",
      "<class 'tuple'>\n"
     ]
    }
   ],
   "source": [
    "numbers=(10,20,30,40)\n",
    "n1,n2,n3,n4=numbers\n",
    "print(n1)\n",
    "print(n2)\n",
    "print(n3)\n",
    "print(n4)\n",
    "t=n3,n4\n",
    "print(t)\n",
    "print(type(t))"
   ]
  },
  {
   "cell_type": "code",
   "execution_count": 181,
   "metadata": {},
   "outputs": [
    {
     "name": "stdout",
     "output_type": "stream",
     "text": [
      "1 <class 'int'>\n",
      "2 <class 'int'>\n",
      "3.3 <class 'float'>\n",
      "['a', 'b', 'c'] <class 'list'>\n",
      "('apple', 'mango') <class 'tuple'>\n",
      "['a', 'b', 'c']\n",
      "('apple', 'mango')\n"
     ]
    }
   ],
   "source": [
    "item=(1,2,3.3,[\"a\",\"b\",\"c\"],(\"apple\",\"mango\"))\n",
    "for i in item:\n",
    "    print(i,type(i))\n",
    "print(item[3])\n",
    "item[3][0]\n",
    "item[4][1]\n",
    "print(item[4])"
   ]
  },
  {
   "cell_type": "code",
   "execution_count": 182,
   "metadata": {},
   "outputs": [
    {
     "name": "stdout",
     "output_type": "stream",
     "text": [
      "[1, 2, 3, 4] <class 'list'>\n",
      "[5, 6, 7, 8] <class 'list'>\n"
     ]
    }
   ],
   "source": [
    "li=[[1,2,3,4],[5,6,7,8]]\n",
    "for i in li:\n",
    "    print(i,type(i))"
   ]
  },
  {
   "cell_type": "code",
   "execution_count": 183,
   "metadata": {},
   "outputs": [
    {
     "name": "stdout",
     "output_type": "stream",
     "text": [
      "[1, 2, 3]\n"
     ]
    }
   ],
   "source": [
    "tpl=(1,2,3)\n",
    "li=list(tpl)\n",
    "print(li)"
   ]
  },
  {
   "cell_type": "code",
   "execution_count": 184,
   "metadata": {},
   "outputs": [
    {
     "name": "stdout",
     "output_type": "stream",
     "text": [
      "set()\n",
      "<class 'set'>\n"
     ]
    }
   ],
   "source": [
    "#set\n",
    "a=set()\n",
    "print(a)\n",
    "print(type(a))"
   ]
  },
  {
   "cell_type": "code",
   "execution_count": 185,
   "metadata": {},
   "outputs": [
    {
     "name": "stdout",
     "output_type": "stream",
     "text": [
      "{'pen', 'cellphone', 'laptop'}\n",
      "<class 'set'>\n"
     ]
    }
   ],
   "source": [
    "item={\"pen\",\"laptop\",\"cellphone\"}\n",
    "print(item)\n",
    "print(type(item))"
   ]
  },
  {
   "cell_type": "code",
   "execution_count": 186,
   "metadata": {},
   "outputs": [
    {
     "name": "stdout",
     "output_type": "stream",
     "text": [
      "{1, 2, 3, 4}\n",
      "{1, 2, 3}\n",
      "<class 'set'>\n",
      "<class 'set'>\n"
     ]
    }
   ],
   "source": [
    "li=[1,2,3,4]\n",
    "tpl=(1,2,3)\n",
    "a=set(li)\n",
    "print(a)\n",
    "b=set(tpl)\n",
    "print(b)\n",
    "print(type(a))\n",
    "print(type(b))"
   ]
  },
  {
   "cell_type": "code",
   "execution_count": 187,
   "metadata": {},
   "outputs": [
    {
     "name": "stdout",
     "output_type": "stream",
     "text": [
      "{'g', 'n', 'h', 'l', 'a', 'd', 'B', 's', 'e'}\n",
      "<class 'set'>\n",
      "{'i', 'L', ' ', 'r', 'k', 'n', 'S', 'a'}\n",
      "<class 'set'>\n"
     ]
    }
   ],
   "source": [
    "A=set(\"Bangladesh\")\n",
    "print(A)\n",
    "print(type(A))\n",
    "\n",
    "B=set(\"Sri Lanka\")\n",
    "print(B)\n",
    "print(type(B))"
   ]
  },
  {
   "cell_type": "code",
   "execution_count": 188,
   "metadata": {},
   "outputs": [
    {
     "name": "stdout",
     "output_type": "stream",
     "text": [
      "True\n",
      "True\n",
      "False\n"
     ]
    }
   ],
   "source": [
    "A={1,2,3}\n",
    "print(1 in A)\n",
    "print(2 in A)\n",
    "print(5 in A)"
   ]
  },
  {
   "cell_type": "code",
   "execution_count": 189,
   "metadata": {},
   "outputs": [
    {
     "name": "stdout",
     "output_type": "stream",
     "text": [
      "{2, 4}\n",
      "{1, 2, 3, 4, 5, 6, 8}\n",
      "{1, 3, 5, 6, 8}\n",
      "{1, 3, 5}\n",
      "{8, 6}\n"
     ]
    }
   ],
   "source": [
    "A={1,2,3,4,5}\n",
    "B={2,4,6,8}\n",
    "C=A&B\n",
    "print(C)\n",
    "\n",
    "C=A|B\n",
    "print(C)\n",
    "\n",
    "C=A^B\n",
    "print(C)\n",
    "\n",
    "C=A-B\n",
    "print(C)\n",
    "\n",
    "C=B-A\n",
    "print(C)"
   ]
  },
  {
   "cell_type": "code",
   "execution_count": 190,
   "metadata": {},
   "outputs": [
    {
     "name": "stdout",
     "output_type": "stream",
     "text": [
      "Enter your roll Number:4\n",
      "your marks is  78\n"
     ]
    }
   ],
   "source": [
    "#Dictionary\n",
    "marks=[77,76,65,78,62,64,60,77,75,79]\n",
    "roll=int(input(\"Enter your roll Number:\"))\n",
    "print(\"your marks is \",marks[roll-1])"
   ]
  },
  {
   "cell_type": "code",
   "execution_count": 191,
   "metadata": {},
   "outputs": [
    {
     "name": "stdout",
     "output_type": "stream",
     "text": [
      "[74, 73]\n",
      "70\n",
      "75\n"
     ]
    }
   ],
   "source": [
    "marks=[[74,73],[70,75],[68,72],[73,73]]\n",
    "print(marks[0])\n",
    "print(marks[1][0])\n",
    "print(marks[1][1])"
   ]
  },
  {
   "cell_type": "code",
   "execution_count": 192,
   "metadata": {},
   "outputs": [
    {
     "name": "stdout",
     "output_type": "stream",
     "text": [
      "<class 'dict'>\n",
      "65\n",
      "Marks of roll number 4 is 78\n"
     ]
    }
   ],
   "source": [
    "marks={1:77,2:76,5:62,4:78,3:65}\n",
    "print(type(marks))\n",
    "\n",
    "print(marks[3])\n",
    "\n",
    "print(\"Marks of roll number 4 is\", marks[4])"
   ]
  },
  {
   "cell_type": "code",
   "execution_count": 193,
   "metadata": {},
   "outputs": [
    {
     "name": "stdout",
     "output_type": "stream",
     "text": [
      "76\n"
     ]
    }
   ],
   "source": [
    "marks={1005:77,1003:76,1002:62,1001:78,1004:65}\n",
    "print(marks[1003])"
   ]
  },
  {
   "cell_type": "code",
   "execution_count": 194,
   "metadata": {},
   "outputs": [
    {
     "name": "stdout",
     "output_type": "stream",
     "text": [
      "62\n"
     ]
    }
   ],
   "source": [
    "marks={\"DH1005\":77,\"DH1003\":76,\"DH1002\":62,\"DH1001\":78,\"DH1004\":65}\n",
    "print(marks[\"DH1002\"])"
   ]
  },
  {
   "cell_type": "code",
   "execution_count": 195,
   "metadata": {},
   "outputs": [
    {
     "name": "stdout",
     "output_type": "stream",
     "text": [
      "{}\n",
      "<class 'dict'>\n",
      "{1: 'one'}\n",
      "{1: 'one', 2: 'two'}\n"
     ]
    }
   ],
   "source": [
    "dt={}\n",
    "print(dt)\n",
    "print(type(dt))\n",
    "dt[1]=\"one\"\n",
    "print(dt)\n",
    "dt[2]=\"two\"\n",
    "print(dt)"
   ]
  },
  {
   "cell_type": "code",
   "execution_count": 196,
   "metadata": {},
   "outputs": [
    {
     "name": "stdout",
     "output_type": "stream",
     "text": [
      "A\n",
      "B\n",
      "C\n"
     ]
    },
    {
     "ename": "KeyError",
     "evalue": "'d'",
     "output_type": "error",
     "traceback": [
      "\u001b[1;31m---------------------------------------------------------------------------\u001b[0m",
      "\u001b[1;31mKeyError\u001b[0m                                  Traceback (most recent call last)",
      "\u001b[1;32m<ipython-input-196-ce1c867c1abf>\u001b[0m in \u001b[0;36m<module>\u001b[1;34m\u001b[0m\n\u001b[0;32m      3\u001b[0m \u001b[0mprint\u001b[0m\u001b[1;33m(\u001b[0m\u001b[0mdt\u001b[0m\u001b[1;33m[\u001b[0m\u001b[1;34m\"b\"\u001b[0m\u001b[1;33m]\u001b[0m\u001b[1;33m)\u001b[0m\u001b[1;33m\u001b[0m\u001b[1;33m\u001b[0m\u001b[0m\n\u001b[0;32m      4\u001b[0m \u001b[0mprint\u001b[0m\u001b[1;33m(\u001b[0m\u001b[0mdt\u001b[0m\u001b[1;33m[\u001b[0m\u001b[1;34m\"c\"\u001b[0m\u001b[1;33m]\u001b[0m\u001b[1;33m)\u001b[0m\u001b[1;33m\u001b[0m\u001b[1;33m\u001b[0m\u001b[0m\n\u001b[1;32m----> 5\u001b[1;33m \u001b[0mprint\u001b[0m\u001b[1;33m(\u001b[0m\u001b[0mdt\u001b[0m\u001b[1;33m[\u001b[0m\u001b[1;34m\"d\"\u001b[0m\u001b[1;33m]\u001b[0m\u001b[1;33m)\u001b[0m\u001b[1;33m\u001b[0m\u001b[1;33m\u001b[0m\u001b[0m\n\u001b[0m",
      "\u001b[1;31mKeyError\u001b[0m: 'd'"
     ]
    }
   ],
   "source": [
    "dt={\"a\":\"A\",\"b\":\"B\",\"c\":\"C\"}\n",
    "print(dt[\"a\"])\n",
    "print(dt[\"b\"])\n",
    "print(dt[\"c\"])\n",
    "print(dt[\"d\"])"
   ]
  },
  {
   "cell_type": "code",
   "execution_count": 197,
   "metadata": {},
   "outputs": [
    {
     "name": "stdout",
     "output_type": "stream",
     "text": [
      "{'a': 'A', 'b': 'B', 'c': 'C', (1, 2, 3): 'tuple'}\n"
     ]
    }
   ],
   "source": [
    "dt={\"a\":\"A\",\"b\":\"B\",\"c\":\"C\"}\n",
    "dt[(1,2,3)]=\"tuple\"\n",
    "print(dt)"
   ]
  },
  {
   "cell_type": "code",
   "execution_count": 198,
   "metadata": {},
   "outputs": [
    {
     "ename": "TypeError",
     "evalue": "unhashable type: 'list'",
     "output_type": "error",
     "traceback": [
      "\u001b[1;31m---------------------------------------------------------------------------\u001b[0m",
      "\u001b[1;31mTypeError\u001b[0m                                 Traceback (most recent call last)",
      "\u001b[1;32m<ipython-input-198-787ab1fe7c48>\u001b[0m in \u001b[0;36m<module>\u001b[1;34m\u001b[0m\n\u001b[0;32m      1\u001b[0m \u001b[0mdt\u001b[0m\u001b[1;33m=\u001b[0m\u001b[1;33m{\u001b[0m\u001b[1;34m\"a\"\u001b[0m\u001b[1;33m:\u001b[0m\u001b[1;34m\"A\"\u001b[0m\u001b[1;33m,\u001b[0m\u001b[1;34m\"b\"\u001b[0m\u001b[1;33m:\u001b[0m\u001b[1;34m\"B\"\u001b[0m\u001b[1;33m,\u001b[0m\u001b[1;34m\"c\"\u001b[0m\u001b[1;33m:\u001b[0m\u001b[1;34m\"C\"\u001b[0m\u001b[1;33m}\u001b[0m\u001b[1;33m\u001b[0m\u001b[1;33m\u001b[0m\u001b[0m\n\u001b[0;32m      2\u001b[0m \u001b[0mli\u001b[0m\u001b[1;33m=\u001b[0m\u001b[1;33m[\u001b[0m\u001b[1;36m1\u001b[0m\u001b[1;33m,\u001b[0m\u001b[1;36m2\u001b[0m\u001b[1;33m,\u001b[0m\u001b[1;36m3\u001b[0m\u001b[1;33m]\u001b[0m\u001b[1;33m\u001b[0m\u001b[1;33m\u001b[0m\u001b[0m\n\u001b[1;32m----> 3\u001b[1;33m \u001b[0mdt\u001b[0m\u001b[1;33m[\u001b[0m\u001b[0mli\u001b[0m\u001b[1;33m]\u001b[0m\u001b[1;33m=\u001b[0m\u001b[1;34m\"list\"\u001b[0m\u001b[1;33m\u001b[0m\u001b[1;33m\u001b[0m\u001b[0m\n\u001b[0m\u001b[0;32m      4\u001b[0m \u001b[0mprint\u001b[0m\u001b[1;33m(\u001b[0m\u001b[0mdt\u001b[0m\u001b[1;33m)\u001b[0m\u001b[1;33m\u001b[0m\u001b[1;33m\u001b[0m\u001b[0m\n",
      "\u001b[1;31mTypeError\u001b[0m: unhashable type: 'list'"
     ]
    }
   ],
   "source": [
    "dt={\"a\":\"A\",\"b\":\"B\",\"c\":\"C\"}\n",
    "li=[1,2,3]\n",
    "dt[li]=\"list\"\n",
    "print(dt)"
   ]
  },
  {
   "cell_type": "code",
   "execution_count": 199,
   "metadata": {},
   "outputs": [
    {
     "name": "stdout",
     "output_type": "stream",
     "text": [
      "{1, 2, 3, 4}\n",
      "<class 'set'>\n"
     ]
    }
   ],
   "source": [
    "s={1,2,3,4}\n",
    "print(s)\n",
    "print(type(s))"
   ]
  },
  {
   "cell_type": "code",
   "execution_count": 200,
   "metadata": {},
   "outputs": [
    {
     "ename": "TypeError",
     "evalue": "unhashable type: 'set'",
     "output_type": "error",
     "traceback": [
      "\u001b[1;31m---------------------------------------------------------------------------\u001b[0m",
      "\u001b[1;31mTypeError\u001b[0m                                 Traceback (most recent call last)",
      "\u001b[1;32m<ipython-input-200-a4356ff9af3a>\u001b[0m in \u001b[0;36m<module>\u001b[1;34m\u001b[0m\n\u001b[0;32m      1\u001b[0m \u001b[0mdt\u001b[0m\u001b[1;33m=\u001b[0m\u001b[1;33m{\u001b[0m\u001b[1;34m\"a\"\u001b[0m\u001b[1;33m:\u001b[0m\u001b[1;34m\"A\"\u001b[0m\u001b[1;33m,\u001b[0m\u001b[1;34m\"b\"\u001b[0m\u001b[1;33m:\u001b[0m\u001b[1;34m\"B\"\u001b[0m\u001b[1;33m,\u001b[0m\u001b[1;34m\"c\"\u001b[0m\u001b[1;33m:\u001b[0m\u001b[1;34m\"C\"\u001b[0m\u001b[1;33m}\u001b[0m\u001b[1;33m\u001b[0m\u001b[1;33m\u001b[0m\u001b[0m\n\u001b[0;32m      2\u001b[0m \u001b[0ms\u001b[0m\u001b[1;33m=\u001b[0m\u001b[1;33m{\u001b[0m\u001b[1;36m1\u001b[0m\u001b[1;33m,\u001b[0m\u001b[1;36m2\u001b[0m\u001b[1;33m,\u001b[0m\u001b[1;36m3\u001b[0m\u001b[1;33m,\u001b[0m\u001b[1;36m4\u001b[0m\u001b[1;33m}\u001b[0m\u001b[1;33m\u001b[0m\u001b[1;33m\u001b[0m\u001b[0m\n\u001b[1;32m----> 3\u001b[1;33m \u001b[0mdt\u001b[0m\u001b[1;33m[\u001b[0m\u001b[0ms\u001b[0m\u001b[1;33m]\u001b[0m\u001b[1;33m=\u001b[0m\u001b[1;34m\"set\"\u001b[0m\u001b[1;33m\u001b[0m\u001b[1;33m\u001b[0m\u001b[0m\n\u001b[0m\u001b[0;32m      4\u001b[0m \u001b[0mprint\u001b[0m\u001b[1;33m(\u001b[0m\u001b[0mdt\u001b[0m\u001b[1;33m)\u001b[0m\u001b[1;33m\u001b[0m\u001b[1;33m\u001b[0m\u001b[0m\n",
      "\u001b[1;31mTypeError\u001b[0m: unhashable type: 'set'"
     ]
    }
   ],
   "source": [
    "dt={\"a\":\"A\",\"b\":\"B\",\"c\":\"C\"}\n",
    "s={1,2,3,4}\n",
    "dt[s]=\"set\"\n",
    "print(dt)"
   ]
  },
  {
   "cell_type": "code",
   "execution_count": 201,
   "metadata": {},
   "outputs": [
    {
     "name": "stdout",
     "output_type": "stream",
     "text": [
      "{'Bangla': 74, 'English': 73}\n",
      "73\n",
      "{'DH1001': {'Bangla': 74, 'English': 73}, 'DH1002': {'Bangla': 70, 'English': 75}, 'DH1003': {'Bangla': 68, 'English': 72}}\n",
      "{'Bangla': 68, 'English': 72}\n",
      "68\n"
     ]
    }
   ],
   "source": [
    "marks={\"DH1001\":{\"Bangla\":74,\"English\":73},\"DH1002\":{\"Bangla\":70,\"English\":75}}\n",
    "print(marks[\"DH1001\"])\n",
    "print(marks[\"DH1001\"][\"English\"])\n",
    "marks[\"DH1003\"]={\"Bangla\":68,\"English\":72}\n",
    "print(marks)\n",
    "print((marks[\"DH1003\"]))\n",
    "print(marks[\"DH1003\"][\"Bangla\"])"
   ]
  },
  {
   "cell_type": "code",
   "execution_count": 202,
   "metadata": {},
   "outputs": [
    {
     "name": "stdout",
     "output_type": "stream",
     "text": [
      "{'Barisal': {'District': 6, 'Upazilla': 39, 'Council': 333}, 'Chittagong': {'District': 11, 'Upazilla': 97, 'Council': 336}, 'Dhaka': {'District': 13, 'Upazilla': 93, 'Council': 1833}, 'Khulna': {'District': 10, 'Upazilla': 59, 'Council': 270}, 'Mymensingh': {'District': 4, 'Upazilla': 34, 'Council': 350}, 'Rajshahi': {'District': 8, 'Upazilla': 70, 'Council': 558}, 'Rangpur': {'District': 8, 'Upazilla': 58, 'Council': 536}, 'Sylhet': {'District': 4, 'Upazilla': 38, 'Council': 334}}\n"
     ]
    }
   ],
   "source": [
    "bd_division_info={}\n",
    "bd_division_info[\"Barisal\"]={\"District\":6,\"Upazilla\":39,\"Council\":333}\n",
    "bd_division_info[\"Chittagong\"]={\"District\":11,\"Upazilla\":97,\"Council\":336}\n",
    "bd_division_info[\"Dhaka\"]={\"District\":13,\"Upazilla\":93,\"Council\":1833}\n",
    "bd_division_info[\"Khulna\"]={\"District\":10,\"Upazilla\":59,\"Council\":270}\n",
    "bd_division_info[\"Mymensingh\"]={\"District\":4,\"Upazilla\":34,\"Council\":350}\n",
    "bd_division_info[\"Rajshahi\"]={\"District\":8,\"Upazilla\":70,\"Council\":558}\n",
    "bd_division_info[\"Barisal\"]={\"District\":6,\"Upazilla\":39,\"Council\":333}\n",
    "bd_division_info[\"Rangpur\"]={\"District\":8,\"Upazilla\":58,\"Council\":536}\n",
    "bd_division_info[\"Sylhet\"]={\"District\":4,\"Upazilla\":38,\"Council\":334}\n",
    "print(bd_division_info)"
   ]
  },
  {
   "cell_type": "code",
   "execution_count": 203,
   "metadata": {},
   "outputs": [
    {
     "name": "stdout",
     "output_type": "stream",
     "text": [
      "{'Barisal': {'District': 6, 'Upazilla': 39, 'Council': 333}, 'Chittagong': {'District': 11, 'Upazilla': 97, 'Council': 336}, 'Dhaka': {'District': 13, 'Upazilla': 93, 'Council': 1833}, 'Khulna': {'District': 10, 'Upazilla': 59, 'Council': 270}, 'Mymensingh': {'District': 4, 'Upazilla': 34, 'Council': 350}, 'Rajshahi': {'District': 8, 'Upazilla': 70, 'Council': 558}, 'Rangpur': {'District': 8, 'Upazilla': 58, 'Council': 536}, 'Sylhet': {'District': 4, 'Upazilla': 38, 'Council': 334}}\n",
      "dict_keys(['Barisal', 'Chittagong', 'Dhaka', 'Khulna', 'Mymensingh', 'Rajshahi', 'Rangpur', 'Sylhet'])\n"
     ]
    }
   ],
   "source": [
    "bd_division_info={}\n",
    "bd_division_info[\"Barisal\"]={\"District\":6,\"Upazilla\":39,\"Council\":333}\n",
    "bd_division_info[\"Chittagong\"]={\"District\":11,\"Upazilla\":97,\"Council\":336}\n",
    "bd_division_info[\"Dhaka\"]={\"District\":13,\"Upazilla\":93,\"Council\":1833}\n",
    "bd_division_info[\"Khulna\"]={\"District\":10,\"Upazilla\":59,\"Council\":270}\n",
    "bd_division_info[\"Mymensingh\"]={\"District\":4,\"Upazilla\":34,\"Council\":350}\n",
    "bd_division_info[\"Rajshahi\"]={\"District\":8,\"Upazilla\":70,\"Council\":558}\n",
    "bd_division_info[\"Barisal\"]={\"District\":6,\"Upazilla\":39,\"Council\":333}\n",
    "bd_division_info[\"Rangpur\"]={\"District\":8,\"Upazilla\":58,\"Council\":536}\n",
    "bd_division_info[\"Sylhet\"]={\"District\":4,\"Upazilla\":38,\"Council\":334}\n",
    "print(bd_division_info)\n",
    "divisions=bd_division_info.keys()\n",
    "print(divisions)"
   ]
  },
  {
   "cell_type": "code",
   "execution_count": 204,
   "metadata": {},
   "outputs": [
    {
     "name": "stdout",
     "output_type": "stream",
     "text": [
      "Division  Barisal\n",
      "Division  Chittagong\n",
      "Division  Dhaka\n",
      "Division  Khulna\n",
      "Division  Mymensingh\n",
      "Division  Rajshahi\n",
      "Division  Rangpur\n",
      "Division  Sylhet\n"
     ]
    }
   ],
   "source": [
    "bd_division_info={}\n",
    "bd_division_info[\"Barisal\"]={\"District\":6,\"Upazilla\":39,\"Council\":333}\n",
    "bd_division_info[\"Chittagong\"]={\"District\":11,\"Upazilla\":97,\"Council\":336}\n",
    "bd_division_info[\"Dhaka\"]={\"District\":13,\"Upazilla\":93,\"Council\":1833}\n",
    "bd_division_info[\"Khulna\"]={\"District\":10,\"Upazilla\":59,\"Council\":270}\n",
    "bd_division_info[\"Mymensingh\"]={\"District\":4,\"Upazilla\":34,\"Council\":350}\n",
    "bd_division_info[\"Rajshahi\"]={\"District\":8,\"Upazilla\":70,\"Council\":558}\n",
    "bd_division_info[\"Barisal\"]={\"District\":6,\"Upazilla\":39,\"Council\":333}\n",
    "bd_division_info[\"Rangpur\"]={\"District\":8,\"Upazilla\":58,\"Council\":536}\n",
    "bd_division_info[\"Sylhet\"]={\"District\":4,\"Upazilla\":38,\"Council\":334}\n",
    "divisions=bd_division_info.keys()\n",
    "for division in divisions:\n",
    "    print(\"Division \",division)"
   ]
  },
  {
   "cell_type": "code",
   "execution_count": 205,
   "metadata": {},
   "outputs": [
    {
     "name": "stdout",
     "output_type": "stream",
     "text": [
      "Barisal upazila\n",
      "39\n",
      "Chittagong upazila\n",
      "97\n",
      "Dhaka upazila\n",
      "93\n",
      "Khulna upazila\n",
      "59\n",
      "Mymensingh upazila\n",
      "34\n",
      "Rajshahi upazila\n",
      "70\n",
      "Rangpur upazila\n",
      "58\n",
      "Sylhet upazila\n",
      "38\n"
     ]
    }
   ],
   "source": [
    "bd_division_info={}\n",
    "bd_division_info[\"Barisal\"]={\"District\":6,\"Upazilla\":39,\"Council\":333}\n",
    "bd_division_info[\"Chittagong\"]={\"District\":11,\"Upazilla\":97,\"Council\":336}\n",
    "bd_division_info[\"Dhaka\"]={\"District\":13,\"Upazilla\":93,\"Council\":1833}\n",
    "bd_division_info[\"Khulna\"]={\"District\":10,\"Upazilla\":59,\"Council\":270}\n",
    "bd_division_info[\"Mymensingh\"]={\"District\":4,\"Upazilla\":34,\"Council\":350}\n",
    "bd_division_info[\"Rajshahi\"]={\"District\":8,\"Upazilla\":70,\"Council\":558}\n",
    "bd_division_info[\"Barisal\"]={\"District\":6,\"Upazilla\":39,\"Council\":333}\n",
    "bd_division_info[\"Rangpur\"]={\"District\":8,\"Upazilla\":58,\"Council\":536}\n",
    "bd_division_info[\"Sylhet\"]={\"District\":4,\"Upazilla\":38,\"Council\":334}\n",
    "divisions=bd_division_info.keys()\n",
    "for division in divisions:\n",
    "    print(division, \"upazila\")\n",
    "    print(bd_division_info[division][\"Upazilla\"])"
   ]
  },
  {
   "cell_type": "code",
   "execution_count": 207,
   "metadata": {},
   "outputs": [
    {
     "name": "stdout",
     "output_type": "stream",
     "text": [
      "Barisal upazila\n",
      "39\n",
      "Chittagong upazila\n",
      "97\n",
      "Dhaka upazila\n",
      "93\n",
      "Khulna upazila\n",
      "59\n",
      "Mymensingh upazila\n",
      "34\n",
      "Rajshahi upazila\n",
      "70\n",
      "Rangpur upazila\n",
      "58\n",
      "Sylhet upazila\n",
      "38\n"
     ]
    }
   ],
   "source": [
    "bd_division_info={}\n",
    "bd_division_info[\"Barisal\"]={\"District\":6,\"Upazilla\":39,\"Council\":333}\n",
    "bd_division_info[\"Chittagong\"]={\"District\":11,\"Upazilla\":97,\"Council\":336}\n",
    "bd_division_info[\"Dhaka\"]={\"District\":13,\"Upazilla\":93,\"Council\":1833}\n",
    "bd_division_info[\"Khulna\"]={\"District\":10,\"Upazilla\":59,\"Council\":270}\n",
    "bd_division_info[\"Mymensingh\"]={\"District\":4,\"Upazilla\":34,\"Council\":350}\n",
    "bd_division_info[\"Rajshahi\"]={\"District\":8,\"Upazilla\":70,\"Council\":558}\n",
    "bd_division_info[\"Barisal\"]={\"District\":6,\"Upazilla\":39,\"Council\":333}\n",
    "bd_division_info[\"Rangpur\"]={\"District\":8,\"Upazilla\":58,\"Council\":536}\n",
    "bd_division_info[\"Sylhet\"]={\"District\":4,\"Upazilla\":38,\"Council\":334}\n",
    "divisions=bd_division_info.keys()\n",
    "for division in divisions:\n",
    "    print(division, \"upazila\")\n",
    "    print(bd_division_info[division][\"Upazilla\"])"
   ]
  },
  {
   "cell_type": "code",
   "execution_count": 208,
   "metadata": {},
   "outputs": [
    {
     "name": "stdout",
     "output_type": "stream",
     "text": [
      "Barisal\n",
      "Chittagong\n",
      "Dhaka\n",
      "Khulna\n",
      "Mymensingh\n",
      "Rajshahi\n",
      "Rangpur\n",
      "Sylhet\n"
     ]
    }
   ],
   "source": [
    "bd_division_info={}\n",
    "bd_division_info[\"Barisal\"]={\"District\":6,\"Upazilla\":39,\"Council\":333}\n",
    "bd_division_info[\"Chittagong\"]={\"District\":11,\"Upazilla\":97,\"Council\":336}\n",
    "bd_division_info[\"Dhaka\"]={\"District\":13,\"Upazilla\":93,\"Council\":1833}\n",
    "bd_division_info[\"Khulna\"]={\"District\":10,\"Upazilla\":59,\"Council\":270}\n",
    "bd_division_info[\"Mymensingh\"]={\"District\":4,\"Upazilla\":34,\"Council\":350}\n",
    "bd_division_info[\"Rajshahi\"]={\"District\":8,\"Upazilla\":70,\"Council\":558}\n",
    "bd_division_info[\"Barisal\"]={\"District\":6,\"Upazilla\":39,\"Council\":333}\n",
    "bd_division_info[\"Rangpur\"]={\"District\":8,\"Upazilla\":58,\"Council\":536}\n",
    "bd_division_info[\"Sylhet\"]={\"District\":4,\"Upazilla\":38,\"Council\":334}\n",
    "for item in bd_division_info:\n",
    "    print(item)"
   ]
  },
  {
   "cell_type": "code",
   "execution_count": 209,
   "metadata": {},
   "outputs": [
    {
     "name": "stdout",
     "output_type": "stream",
     "text": [
      "Barisal\n",
      "{'District': 6, 'Upazilla': 39, 'Council': 333}\n",
      "Chittagong\n",
      "{'District': 11, 'Upazilla': 97, 'Council': 336}\n",
      "Dhaka\n",
      "{'District': 13, 'Upazilla': 93, 'Council': 1833}\n",
      "Khulna\n",
      "{'District': 10, 'Upazilla': 59, 'Council': 270}\n",
      "Mymensingh\n",
      "{'District': 4, 'Upazilla': 34, 'Council': 350}\n",
      "Rajshahi\n",
      "{'District': 8, 'Upazilla': 70, 'Council': 558}\n",
      "Rangpur\n",
      "{'District': 8, 'Upazilla': 58, 'Council': 536}\n",
      "Sylhet\n",
      "{'District': 4, 'Upazilla': 38, 'Council': 334}\n"
     ]
    }
   ],
   "source": [
    "bd_division_info={}\n",
    "bd_division_info[\"Barisal\"]={\"District\":6,\"Upazilla\":39,\"Council\":333}\n",
    "bd_division_info[\"Chittagong\"]={\"District\":11,\"Upazilla\":97,\"Council\":336}\n",
    "bd_division_info[\"Dhaka\"]={\"District\":13,\"Upazilla\":93,\"Council\":1833}\n",
    "bd_division_info[\"Khulna\"]={\"District\":10,\"Upazilla\":59,\"Council\":270}\n",
    "bd_division_info[\"Mymensingh\"]={\"District\":4,\"Upazilla\":34,\"Council\":350}\n",
    "bd_division_info[\"Rajshahi\"]={\"District\":8,\"Upazilla\":70,\"Council\":558}\n",
    "bd_division_info[\"Barisal\"]={\"District\":6,\"Upazilla\":39,\"Council\":333}\n",
    "bd_division_info[\"Rangpur\"]={\"District\":8,\"Upazilla\":58,\"Council\":536}\n",
    "bd_division_info[\"Sylhet\"]={\"District\":4,\"Upazilla\":38,\"Council\":334}\n",
    "for item in bd_division_info:\n",
    "    print(item)\n",
    "    print(bd_division_info[item])"
   ]
  },
  {
   "cell_type": "code",
   "execution_count": 210,
   "metadata": {},
   "outputs": [
    {
     "name": "stdout",
     "output_type": "stream",
     "text": [
      "Barisal\n",
      "{'District': 6, 'Upazilla': 39, 'Council': 333}\n",
      "Chittagong\n",
      "{'District': 11, 'Upazilla': 97, 'Council': 336}\n",
      "Dhaka\n",
      "{'District': 13, 'Upazilla': 93, 'Council': 1833}\n",
      "Khulna\n",
      "{'District': 10, 'Upazilla': 59, 'Council': 270}\n",
      "Mymensingh\n",
      "{'District': 4, 'Upazilla': 34, 'Council': 350}\n",
      "Rajshahi\n",
      "{'District': 8, 'Upazilla': 70, 'Council': 558}\n",
      "Rangpur\n",
      "{'District': 8, 'Upazilla': 58, 'Council': 536}\n",
      "Sylhet\n",
      "{'District': 4, 'Upazilla': 38, 'Council': 334}\n"
     ]
    }
   ],
   "source": [
    "bd_division_info={}\n",
    "bd_division_info[\"Barisal\"]={\"District\":6,\"Upazilla\":39,\"Council\":333}\n",
    "bd_division_info[\"Chittagong\"]={\"District\":11,\"Upazilla\":97,\"Council\":336}\n",
    "bd_division_info[\"Dhaka\"]={\"District\":13,\"Upazilla\":93,\"Council\":1833}\n",
    "bd_division_info[\"Khulna\"]={\"District\":10,\"Upazilla\":59,\"Council\":270}\n",
    "bd_division_info[\"Mymensingh\"]={\"District\":4,\"Upazilla\":34,\"Council\":350}\n",
    "bd_division_info[\"Rajshahi\"]={\"District\":8,\"Upazilla\":70,\"Council\":558}\n",
    "bd_division_info[\"Barisal\"]={\"District\":6,\"Upazilla\":39,\"Council\":333}\n",
    "bd_division_info[\"Rangpur\"]={\"District\":8,\"Upazilla\":58,\"Council\":536}\n",
    "bd_division_info[\"Sylhet\"]={\"District\":4,\"Upazilla\":38,\"Council\":334}\n",
    "for item,value in bd_division_info.items():\n",
    "    print(item)\n",
    "    print(value)"
   ]
  },
  {
   "cell_type": "code",
   "execution_count": 211,
   "metadata": {},
   "outputs": [
    {
     "name": "stdout",
     "output_type": "stream",
     "text": [
      "{'District': 11, 'Upazilla': 97, 'Council': 336}\n",
      "11\n",
      "97\n",
      "336\n"
     ]
    }
   ],
   "source": [
    "bd_division_info={}\n",
    "bd_division_info[\"Barisal\"]={\"District\":6,\"Upazilla\":39,\"Council\":333}\n",
    "bd_division_info[\"Chittagong\"]={\"District\":11,\"Upazilla\":97,\"Council\":336}\n",
    "bd_division_info[\"Dhaka\"]={\"District\":13,\"Upazilla\":93,\"Council\":1833}\n",
    "bd_division_info[\"Khulna\"]={\"District\":10,\"Upazilla\":59,\"Council\":270}\n",
    "bd_division_info[\"Mymensingh\"]={\"District\":4,\"Upazilla\":34,\"Council\":350}\n",
    "bd_division_info[\"Rajshahi\"]={\"District\":8,\"Upazilla\":70,\"Council\":558}\n",
    "bd_division_info[\"Barisal\"]={\"District\":6,\"Upazilla\":39,\"Council\":333}\n",
    "bd_division_info[\"Rangpur\"]={\"District\":8,\"Upazilla\":58,\"Council\":536}\n",
    "bd_division_info[\"Sylhet\"]={\"District\":4,\"Upazilla\":38,\"Council\":334}\n",
    "print(bd_division_info[\"Chittagong\"])\n",
    "print(bd_division_info[\"Chittagong\"][\"District\"])\n",
    "print(bd_division_info[\"Chittagong\"][\"Upazilla\"])\n",
    "print(bd_division_info[\"Chittagong\"][\"Council\"])"
   ]
  },
  {
   "cell_type": "markdown",
   "metadata": {},
   "source": [
    "# drawing program chapter=10"
   ]
  },
  {
   "cell_type": "code",
   "execution_count": 212,
   "metadata": {},
   "outputs": [
    {
     "name": "stdout",
     "output_type": "stream",
     "text": [
      "0.1480339070479021\n",
      "0.2255088585870313\n",
      "0.653983152444247\n",
      "34\n",
      "12\n",
      "11\n"
     ]
    }
   ],
   "source": [
    "#Random number\n",
    "import random\n",
    "print(random.random())\n",
    "print(random.random())\n",
    "print(random.random())\n",
    "print(random.randint(10,50))\n",
    "print(random.randint(10,50))\n",
    "print(random.randint(10,50))"
   ]
  },
  {
   "cell_type": "code",
   "execution_count": 214,
   "metadata": {},
   "outputs": [
    {
     "name": "stdout",
     "output_type": "stream",
     "text": [
      "(0.00,0.00)\n",
      "(100.00,0.00)\n",
      "(100.00,0.00)\n",
      "(100.00,50.00)\n"
     ]
    },
    {
     "ename": "Terminator",
     "evalue": "",
     "output_type": "error",
     "traceback": [
      "\u001b[1;31m---------------------------------------------------------------------------\u001b[0m",
      "\u001b[1;31mTerminator\u001b[0m                                Traceback (most recent call last)",
      "\u001b[1;32m<ipython-input-214-6c7b66c8f425>\u001b[0m in \u001b[0;36m<module>\u001b[1;34m\u001b[0m\n\u001b[0;32m      8\u001b[0m \u001b[0mprint\u001b[0m\u001b[1;33m(\u001b[0m\u001b[0mturtle\u001b[0m\u001b[1;33m.\u001b[0m\u001b[0mposition\u001b[0m\u001b[1;33m(\u001b[0m\u001b[1;33m)\u001b[0m\u001b[1;33m)\u001b[0m\u001b[1;33m\u001b[0m\u001b[1;33m\u001b[0m\u001b[0m\n\u001b[0;32m      9\u001b[0m \u001b[0mturtle\u001b[0m\u001b[1;33m.\u001b[0m\u001b[0mexitonclick\u001b[0m\u001b[1;33m(\u001b[0m\u001b[1;33m)\u001b[0m\u001b[1;33m\u001b[0m\u001b[1;33m\u001b[0m\u001b[0m\n\u001b[1;32m---> 10\u001b[1;33m \u001b[0mturtle\u001b[0m\u001b[1;33m.\u001b[0m\u001b[0mbackward\u001b[0m\u001b[1;33m(\u001b[0m\u001b[1;36m200\u001b[0m\u001b[1;33m)\u001b[0m\u001b[1;33m\u001b[0m\u001b[1;33m\u001b[0m\u001b[0m\n\u001b[0m\u001b[0;32m     11\u001b[0m \u001b[0mprint\u001b[0m\u001b[1;33m(\u001b[0m\u001b[0mturtle\u001b[0m\u001b[1;33m.\u001b[0m\u001b[0mposition\u001b[0m\u001b[1;33m(\u001b[0m\u001b[1;33m)\u001b[0m\u001b[1;33m)\u001b[0m\u001b[1;33m\u001b[0m\u001b[1;33m\u001b[0m\u001b[0m\n",
      "\u001b[1;32m~\\anaconda3\\lib\\turtle.py\u001b[0m in \u001b[0;36mbackward\u001b[1;34m(distance)\u001b[0m\n",
      "\u001b[1;31mTerminator\u001b[0m: "
     ]
    }
   ],
   "source": [
    "import turtle\n",
    "print(turtle.position())\n",
    "turtle.forward(100)\n",
    "print(turtle.position())\n",
    "turtle.left(90)\n",
    "print(turtle.position())\n",
    "turtle.forward(50)\n",
    "print(turtle.position())\n",
    "turtle.exitonclick()\n",
    "turtle.backward(200)\n",
    "print(turtle.position())"
   ]
  },
  {
   "cell_type": "code",
   "execution_count": 215,
   "metadata": {},
   "outputs": [
    {
     "name": "stdout",
     "output_type": "stream",
     "text": [
      "32\n",
      "-6\n",
      "96\n",
      "-79\n",
      "48\n",
      "-77\n",
      "114\n",
      "17\n",
      "156\n",
      "-144\n",
      "-78\n",
      "-30\n",
      "70\n",
      "22\n",
      "75\n",
      "-180\n",
      "19\n",
      "64\n",
      "176\n",
      "-93\n",
      "62\n",
      "186\n",
      "-130\n",
      "-47\n",
      "14\n",
      "97\n",
      "32\n",
      "56\n",
      "-17\n",
      "6\n",
      "95\n",
      "68\n",
      "-179\n",
      "-123\n",
      "-58\n",
      "76\n",
      "137\n",
      "7\n",
      "-97\n",
      "128\n"
     ]
    }
   ],
   "source": [
    "import turtle\n",
    "import random\n",
    "\n",
    "for i in range(20):\n",
    "    print(random.randint(-200,200))\n",
    "    print(random.randint(-200,200))"
   ]
  },
  {
   "cell_type": "code",
   "execution_count": 216,
   "metadata": {},
   "outputs": [],
   "source": [
    "import turtle\n",
    "import random\n",
    "\n",
    "for i in range(20):\n",
    "    x=random.randint(-200,200)\n",
    "    y=random.randint(-200,200)\n",
    "    turtle.setposition(x,y)\n",
    "    turtle.dot()\n",
    "turtle.exitonclick()"
   ]
  },
  {
   "cell_type": "code",
   "execution_count": 218,
   "metadata": {},
   "outputs": [],
   "source": [
    "import turtle\n",
    "import random\n",
    "turtle.penup()\n",
    "for i in range(50):\n",
    "    x=random.randint(-200,200)\n",
    "    y=random.randint(-200,200)\n",
    "    turtle.setposition(x,y)\n",
    "    turtle.dot()\n",
    "turtle.exitonclick()"
   ]
  },
  {
   "cell_type": "code",
   "execution_count": 220,
   "metadata": {},
   "outputs": [],
   "source": [
    "import turtle\n",
    "import random\n",
    "#list of color\n",
    "colors=[\"red\",\"green\",\"blue\",\"yellow\",\"orange\",\"black\",\"purple\"]\n",
    "turtle.penup()\n",
    "for i in range(50):\n",
    "    x=random.randint(-200,200)\n",
    "    y=random.randint(-200,200)\n",
    "    #set a random position\n",
    "    turtle.setposition(x,y)\n",
    "    #set a random color\n",
    "    i=random.randint(0,len(colors)-1)\n",
    "    turtle.dot(colors[i])\n",
    "turtle.exitonclick()"
   ]
  },
  {
   "cell_type": "code",
   "execution_count": null,
   "metadata": {},
   "outputs": [
    {
     "name": "stdout",
     "output_type": "stream",
     "text": [
      "Guess the number (between 1 and 1000):500\n",
      "Incorrect!Please try to guess a smaller number.\n",
      "Guess the number (between 1 and 1000):250\n",
      "Incorrect!Please try to guess a larger  number.\n",
      "Guess the number (between 1 and 1000):300\n",
      "Incorrect!Please try to guess a smaller number.\n",
      "Guess the number (between 1 and 1000):350\n",
      "Incorrect!Please try to guess a smaller number.\n",
      "Guess the number (between 1 and 1000):340\n",
      "Incorrect!Please try to guess a smaller number.\n",
      "Guess the number (between 1 and 1000):341\n",
      "Incorrect!Please try to guess a smaller number.\n",
      "Guess the number (between 1 and 1000):342\n",
      "Incorrect!Please try to guess a smaller number.\n",
      "Guess the number (between 1 and 1000):343\n",
      "Incorrect!Please try to guess a smaller number.\n",
      "Guess the number (between 1 and 1000):344\n",
      "Incorrect!Please try to guess a smaller number.\n",
      "Guess the number (between 1 and 1000):345\n",
      "Incorrect!Please try to guess a smaller number.\n",
      "Guess the number (between 1 and 1000):346\n",
      "Incorrect!Please try to guess a smaller number.\n",
      "Guess the number (between 1 and 1000):0\n",
      "Incorrect!Please try to guess a larger  number.\n"
     ]
    }
   ],
   "source": [
    "import random\n",
    "\n",
    "number=random.randint(1,1000)\n",
    "attempts=0\n",
    "while True:\n",
    "    input_number=int(input(\"Guess the number (between 1 and 1000):\"))\n",
    "    attempts+=1\n",
    "    if input_number==number:\n",
    "        print(\"Yes , you guess is correct!\")\n",
    "        break\n",
    "    if input_number>number:\n",
    "        print(\"Incorrect!Please try to guess a smaller number.\")\n",
    "    else:\n",
    "        print(\"Incorrect!Please try to guess a larger  number.\")\n",
    "print(\"you tried\", attempts, \"times to find the correct number.=\")"
   ]
  },
  {
   "cell_type": "code",
   "execution_count": 1,
   "metadata": {},
   "outputs": [
    {
     "name": "stdout",
     "output_type": "stream",
     "text": [
      "2.5\n",
      "2\n",
      "2.0\n",
      "2\n",
      "3.3333333333333335\n",
      "3\n",
      "1.6666666666666667\n",
      "1\n"
     ]
    }
   ],
   "source": [
    "print(5/2)\n",
    "print(5//2)\n",
    "print(4/2)\n",
    "print(4//2)\n",
    "print(10/3)\n",
    "print(10//3)\n",
    "print(10/6)\n",
    "print(10//6)"
   ]
  },
  {
   "cell_type": "code",
   "execution_count": 2,
   "metadata": {},
   "outputs": [
    {
     "name": "stdout",
     "output_type": "stream",
     "text": [
      "Guess the number (between 1 and 1000):\n",
      "My guess is  500\n",
      "Incorrect!Please try to guess a larger  number.\n",
      "Guess the number (between 1 and 1000):\n",
      "My guess is  750\n",
      "Incorrect!Please try to guess a larger  number.\n",
      "Guess the number (between 1 and 1000):\n",
      "My guess is  875\n",
      "Incorrect!Please try to guess a smaller number.\n",
      "Guess the number (between 1 and 1000):\n",
      "My guess is  812\n",
      "Incorrect!Please try to guess a larger  number.\n",
      "Guess the number (between 1 and 1000):\n",
      "My guess is  843\n",
      "Incorrect!Please try to guess a smaller number.\n",
      "Guess the number (between 1 and 1000):\n",
      "My guess is  827\n",
      "Incorrect!Please try to guess a larger  number.\n",
      "Guess the number (between 1 and 1000):\n",
      "My guess is  835\n",
      "Incorrect!Please try to guess a smaller number.\n",
      "Guess the number (between 1 and 1000):\n",
      "My guess is  831\n",
      "Incorrect!Please try to guess a larger  number.\n",
      "Guess the number (between 1 and 1000):\n",
      "My guess is  833\n",
      "Yes , you guess is correct!\n",
      "you tried 9 times to find the correct number.=\n"
     ]
    }
   ],
   "source": [
    "import random\n",
    "\n",
    "number=random.randint(1,1000)\n",
    "attempts=0\n",
    "\n",
    "low=1\n",
    "high=1000\n",
    "while True:\n",
    "    print(\"Guess the number (between 1 and 1000):\")\n",
    "    input_number=(low+high)//2#only integer division\n",
    "    print(\"My guess is \", input_number)\n",
    "    attempts+=1\n",
    "\n",
    "    if input_number==number:\n",
    "        print(\"Yes , you guess is correct!\")\n",
    "        break\n",
    "    if input_number>number:\n",
    "        print(\"Incorrect!Please try to guess a smaller number.\")\n",
    "        high=input_number-1\n",
    "    else:\n",
    "        print(\"Incorrect!Please try to guess a larger  number.\")\n",
    "        low=input_number+1\n",
    "print(\"you tried\", attempts, \"times to find the correct number.=\")"
   ]
  },
  {
   "cell_type": "code",
   "execution_count": 3,
   "metadata": {},
   "outputs": [
    {
     "name": "stdout",
     "output_type": "stream",
     "text": [
      "Plese enter a number (enter 0 to exit):77\n",
      "77  is divisible by 7\n",
      "77  is divisible by 11\n",
      "77  is not a prime number.\n",
      "Plese enter a number (enter 0 to exit):10\n",
      "10  is divisible by 2\n",
      "10  is divisible by 5\n",
      "10  is not a prime number.\n",
      "Plese enter a number (enter 0 to exit):50\n",
      "50  is divisible by 2\n",
      "50  is divisible by 5\n",
      "50  is divisible by 10\n",
      "50  is divisible by 25\n",
      "50  is not a prime number.\n",
      "Plese enter a number (enter 0 to exit):53\n",
      "53  is a prime number.\n",
      "Plese enter a number (enter 0 to exit):11\n",
      "11  is a prime number.\n",
      "Plese enter a number (enter 0 to exit):17\n",
      "17  is a prime number.\n",
      "Plese enter a number (enter 0 to exit):0\n"
     ]
    }
   ],
   "source": [
    "#prime number\n",
    "def is_prime(n):\n",
    "    if n<2:\n",
    "        return False\n",
    "    prime=True\n",
    "    for x in range(2,n):#2=n-1\n",
    "        if n%x==0:\n",
    "            print(n,\" is divisible by\" ,x)\n",
    "            prime=False\n",
    "    return prime\n",
    "while True:\n",
    "    number=int(input(\"Plese enter a number (enter 0 to exit):\"))\n",
    "    if number==0:\n",
    "        break\n",
    "    prime=is_prime(number)\n",
    "    if prime is True:\n",
    "        print(number,\" is a prime number.\")\n",
    "    else:\n",
    "        print(number,\" is not a prime number.\")"
   ]
  },
  {
   "cell_type": "code",
   "execution_count": 4,
   "metadata": {},
   "outputs": [
    {
     "name": "stdout",
     "output_type": "stream",
     "text": [
      "Plese enter a number (enter 0 to exit):77\n",
      "77  is divisible by 7\n",
      "77  is not a prime number.\n",
      "Plese enter a number (enter 0 to exit):10\n",
      "10  is divisible by 2\n",
      "10  is not a prime number.\n",
      "Plese enter a number (enter 0 to exit):50\n",
      "50  is divisible by 2\n",
      "50  is not a prime number.\n",
      "Plese enter a number (enter 0 to exit):17\n",
      "17  is a prime number.\n",
      "Plese enter a number (enter 0 to exit):0\n"
     ]
    }
   ],
   "source": [
    "def is_prime(n):\n",
    "    if n<2:\n",
    "        return False\n",
    "    prime=True\n",
    "    for x in range(2,n):#2=n-1\n",
    "        if n%x==0:\n",
    "            print(n,\" is divisible by\" ,x)\n",
    "            prime=False\n",
    "            return prime\n",
    "    return prime\n",
    "while True:\n",
    "    number=int(input(\"Plese enter a number (enter 0 to exit):\"))\n",
    "    if number==0:\n",
    "        break\n",
    "    prime=is_prime(number)\n",
    "    if prime is True:\n",
    "        print(number,\" is a prime number.\")\n",
    "    else:\n",
    "        print(number,\" is not a prime number.\")"
   ]
  },
  {
   "cell_type": "code",
   "execution_count": 5,
   "metadata": {},
   "outputs": [
    {
     "name": "stdout",
     "output_type": "stream",
     "text": [
      "Plese enter a number (enter 0 to exit):77\n",
      "77  is divisible by 7\n",
      "77  is not a prime number.\n",
      "Plese enter a number (enter 0 to exit):10\n",
      "10  is divided by 2\n",
      "10  is not a prime number.\n",
      "Plese enter a number (enter 0 to exit):50\n",
      "50  is divided by 2\n",
      "50  is not a prime number.\n",
      "Plese enter a number (enter 0 to exit):53\n",
      "53  is a prime number.\n",
      "Plese enter a number (enter 0 to exit):11\n",
      "11  is a prime number.\n",
      "Plese enter a number (enter 0 to exit):17\n",
      "17  is a prime number.\n",
      "Plese enter a number (enter 0 to exit):0\n"
     ]
    }
   ],
   "source": [
    "def is_prime(n):\n",
    "    if n==2:\n",
    "        return True # 2 is prime\n",
    "    if n%2==0:\n",
    "        print(n,\" is divided by 2\")\n",
    "        return False #all even numbers excepted 2 are not prime\n",
    "    if n<2:\n",
    "        return False # number less than 2 are not prime\n",
    "    prime=True\n",
    "    for x in range(3,n,2):  # 2=n-1\n",
    "        if n % x == 0:\n",
    "            print(n, \" is divisible by\", x)\n",
    "            prime = False\n",
    "            return prime\n",
    "    return prime\n",
    "while True:\n",
    "    number=int(input(\"Plese enter a number (enter 0 to exit):\"))\n",
    "    if number==0:\n",
    "        break\n",
    "    prime=is_prime(number)\n",
    "    if prime is True:\n",
    "        print(number,\" is a prime number.\")\n",
    "    else:\n",
    "        print(number,\" is not a prime number.\")"
   ]
  },
  {
   "cell_type": "code",
   "execution_count": 6,
   "metadata": {},
   "outputs": [
    {
     "name": "stdout",
     "output_type": "stream",
     "text": [
      "Plese enter a number (enter 0 to exit):77\n",
      "77  is divisible by 7\n",
      "77  is not a prime number.\n",
      "Plese enter a number (enter 0 to exit):10\n",
      "10  is divided by 2\n",
      "10  is not a prime number.\n",
      "Plese enter a number (enter 0 to exit):0\n"
     ]
    }
   ],
   "source": [
    "def is_prime(n):\n",
    "    if n==2:\n",
    "        return True # 2 is prime\n",
    "    if n%2==0:\n",
    "        print(n,\" is divided by 2\")\n",
    "        return False #all even numbers excepted 2 are not prime\n",
    "    if n<2:\n",
    "        return False # number less than 2 are not prime\n",
    "    prime=True\n",
    "    m=n//2+1\n",
    "    for x in range(3,m,2):  # 2=n-1\n",
    "        if n % x == 0:\n",
    "            print(n, \" is divisible by\", x)\n",
    "            prime = False\n",
    "            return prime\n",
    "    return prime\n",
    "while True:\n",
    "    number=int(input(\"Plese enter a number (enter 0 to exit):\"))\n",
    "    if number==0:\n",
    "        break\n",
    "    prime=is_prime(number)\n",
    "    if prime is True:\n",
    "        print(number,\" is a prime number.\")\n",
    "    else:\n",
    "        print(number,\" is not a prime number.\")"
   ]
  },
  {
   "cell_type": "code",
   "execution_count": 7,
   "metadata": {},
   "outputs": [
    {
     "name": "stdout",
     "output_type": "stream",
     "text": [
      "Plese enter a number (enter 0 to exit):11\n",
      "11  is a prime number.\n",
      "Plese enter a number (enter 0 to exit):22\n",
      "22  is divided by 2\n",
      "22  is not a prime number.\n",
      "Plese enter a number (enter 0 to exit):0\n"
     ]
    }
   ],
   "source": [
    "import math\n",
    "def is_prime(n):\n",
    "    if n==2:\n",
    "        return True # 2 is prime\n",
    "    if n%2==0:\n",
    "        print(n,\" is divided by 2\")\n",
    "        return False #all even numbers excepted 2 are not prime\n",
    "    if n<2:\n",
    "        return False # number less than 2 are not prime\n",
    "    prime=True\n",
    "    m=math.sqrt(n)\n",
    "    m=int(m)+1\n",
    "    for x in range(3,m,2):  # 2=n-1\n",
    "        if n % x == 0:\n",
    "            return False\n",
    "    return True\n",
    "while True:\n",
    "    number=int(input(\"Plese enter a number (enter 0 to exit):\"))\n",
    "    if number==0:\n",
    "        break\n",
    "    prime=is_prime(number)\n",
    "    if prime is True:\n",
    "        print(number,\" is a prime number.\")\n",
    "    else:\n",
    "        print(number,\" is not a prime number.\")"
   ]
  },
  {
   "cell_type": "code",
   "execution_count": 1,
   "metadata": {},
   "outputs": [
    {
     "name": "stdout",
     "output_type": "stream",
     "text": [
      "68.8381394 68.8381394 20.85257133482151\n"
     ]
    }
   ],
   "source": [
    "import math\n",
    "def is_prime4(n=1013):\n",
    "    if n==2:\n",
    "        return True # 2 is prime\n",
    "    if n%2==0:\n",
    "        return False #all even numbers excepted 2 are not prime\n",
    "    if n<2:\n",
    "        return False # number less than 2 are not prime\n",
    "    m=math.sqrt(n)\n",
    "    m=int(m)+1\n",
    "    for x in range(3,m,2):  # 2=n-1\n",
    "        if n % x == 0:\n",
    "            return False\n",
    "    return True\n",
    "def is_prime3(n=1013):\n",
    "    if n==2:\n",
    "        return True # 2 is prime\n",
    "    if n%2==0:\n",
    "        return False #all even numbers excepted 2 are not prime\n",
    "    if n<2:\n",
    "        return False # number less than 2 are not prime\n",
    "    prime=True\n",
    "    for x in range(3,n,2):  # 2=n-1\n",
    "        if n % x == 0:\n",
    "            prime = False\n",
    "            return prime\n",
    "    return prime\n",
    "import timeit\n",
    "t1=timeit.timeit(is_prime3)\n",
    "t2=timeit.timeit(is_prime4)\n",
    "print(t1,t1,t1/t2)"
   ]
  },
  {
   "cell_type": "code",
   "execution_count": null,
   "metadata": {},
   "outputs": [],
   "source": [
    "import turtle\n",
    "turtle.color(\"red\",\"yellow\")\n",
    "turtle.begin_fill()\n",
    "while True:\n",
    "    turtle.forward(200)\n",
    "    turtle.left(170)\n",
    "    if abs(turtle.position())<1:\n",
    "        break\n",
    "turtle.end_fill()\n",
    "turtle.exitonclick()"
   ]
  }
 ],
 "metadata": {
  "kernelspec": {
   "display_name": "Python 3",
   "language": "python",
   "name": "python3"
  },
  "language_info": {
   "codemirror_mode": {
    "name": "ipython",
    "version": 3
   },
   "file_extension": ".py",
   "mimetype": "text/x-python",
   "name": "python",
   "nbconvert_exporter": "python",
   "pygments_lexer": "ipython3",
   "version": "3.8.5"
  }
 },
 "nbformat": 4,
 "nbformat_minor": 4
}
